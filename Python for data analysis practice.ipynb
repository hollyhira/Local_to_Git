{
 "cells": [
  {
   "cell_type": "code",
   "execution_count": 1,
   "id": "c8f559ee",
   "metadata": {},
   "outputs": [],
   "source": [
    "import pandas as pd\n",
    "import numpy as np\n",
    "import seaborn as sns                       #visualisation\n",
    "import matplotlib.pyplot as plt             #visualisation\n",
    "%matplotlib inline     \n",
    "sns.set(color_codes=True)\n",
    "import pandas_profiling as pp"
   ]
  },
  {
   "cell_type": "code",
   "execution_count": 2,
   "id": "ac7dd22f",
   "metadata": {},
   "outputs": [
    {
     "name": "stdout",
     "output_type": "stream",
     "text": [
      "[3, 2, 1]\n"
     ]
    }
   ],
   "source": [
    "l=[1,2,3]\n",
    "l.reverse()\n",
    "print(l)\n",
    "#Use tab after '.' to search different options"
   ]
  },
  {
   "cell_type": "code",
   "execution_count": 3,
   "id": "a87ec573",
   "metadata": {},
   "outputs": [],
   "source": [
    "import math"
   ]
  },
  {
   "cell_type": "code",
   "execution_count": 4,
   "id": "f2a7dcf2",
   "metadata": {},
   "outputs": [
    {
     "data": {
      "text/plain": [
       "0.9092974268256817"
      ]
     },
     "execution_count": 4,
     "metadata": {},
     "output_type": "execute_result"
    }
   ],
   "source": [
    "math.sin(2)"
   ]
  },
  {
   "cell_type": "markdown",
   "id": "f8e5acf6",
   "metadata": {},
   "source": [
    "Out[input the number of the previous output]**2\n",
    "\n",
    "#print past results using Out"
   ]
  },
  {
   "cell_type": "code",
   "execution_count": 5,
   "id": "16a698bf",
   "metadata": {},
   "outputs": [
    {
     "name": "stdout",
     "output_type": "stream",
     "text": [
      "0.9092974268256817\n"
     ]
    }
   ],
   "source": [
    "print(_)\n",
    "\n",
    "#print previous output with _. you can use a double underscore to access the\n",
    "#second-to-last output, and a triple underscore to access the third-to-last output"
   ]
  },
  {
   "cell_type": "code",
   "execution_count": 6,
   "id": "b484117f",
   "metadata": {},
   "outputs": [],
   "source": [
    "import numpy as np\n",
    "import pandas as pd\n",
    "import matplotlib.pyplot as plt"
   ]
  },
  {
   "cell_type": "code",
   "execution_count": 7,
   "id": "c924d312",
   "metadata": {},
   "outputs": [],
   "source": [
    "arr = np.arange(10)"
   ]
  },
  {
   "cell_type": "code",
   "execution_count": 8,
   "id": "02e68738",
   "metadata": {},
   "outputs": [
    {
     "data": {
      "text/plain": [
       "array([0, 1, 2, 3, 4, 5, 6, 7, 8, 9])"
      ]
     },
     "execution_count": 8,
     "metadata": {},
     "output_type": "execute_result"
    }
   ],
   "source": [
    "arr\n"
   ]
  },
  {
   "cell_type": "code",
   "execution_count": 9,
   "id": "eb6ab3e9",
   "metadata": {},
   "outputs": [
    {
     "name": "stdout",
     "output_type": "stream",
     "text": [
      "The fruit is unidentified\n"
     ]
    }
   ],
   "source": [
    "fruit='apple'\n",
    "if fruit=='Apple':\n",
    "    print('The fruit is an apple')\n",
    "elif fruit=='Orange':\n",
    "    print('The fruit is an orange')\n",
    "else:\n",
    "    print('The fruit is unidentified')"
   ]
  },
  {
   "cell_type": "code",
   "execution_count": 10,
   "id": "710d4628",
   "metadata": {},
   "outputs": [],
   "source": [
    "data={\n",
    "'apples':[3,2,0,1],\n",
    "'oranges':[0,3,7,2]\n",
    "}\n",
    "#There armany ways to create a DataFrame from scratch, but a great option is to just usea simple dict\n",
    "#EG We want to have a column for each fruit and a row for each customer purchase. \n",
    "#To organize this as a dictionary forpandas we could do something like the above:"
   ]
  },
  {
   "cell_type": "code",
   "execution_count": 11,
   "id": "ec8248c4",
   "metadata": {},
   "outputs": [
    {
     "data": {
      "text/html": [
       "<div>\n",
       "<style scoped>\n",
       "    .dataframe tbody tr th:only-of-type {\n",
       "        vertical-align: middle;\n",
       "    }\n",
       "\n",
       "    .dataframe tbody tr th {\n",
       "        vertical-align: top;\n",
       "    }\n",
       "\n",
       "    .dataframe thead th {\n",
       "        text-align: right;\n",
       "    }\n",
       "</style>\n",
       "<table border=\"1\" class=\"dataframe\">\n",
       "  <thead>\n",
       "    <tr style=\"text-align: right;\">\n",
       "      <th></th>\n",
       "      <th>apples</th>\n",
       "      <th>oranges</th>\n",
       "    </tr>\n",
       "  </thead>\n",
       "  <tbody>\n",
       "    <tr>\n",
       "      <th>0</th>\n",
       "      <td>3</td>\n",
       "      <td>0</td>\n",
       "    </tr>\n",
       "    <tr>\n",
       "      <th>1</th>\n",
       "      <td>2</td>\n",
       "      <td>3</td>\n",
       "    </tr>\n",
       "    <tr>\n",
       "      <th>2</th>\n",
       "      <td>0</td>\n",
       "      <td>7</td>\n",
       "    </tr>\n",
       "    <tr>\n",
       "      <th>3</th>\n",
       "      <td>1</td>\n",
       "      <td>2</td>\n",
       "    </tr>\n",
       "  </tbody>\n",
       "</table>\n",
       "</div>"
      ],
      "text/plain": [
       "   apples  oranges\n",
       "0       3        0\n",
       "1       2        3\n",
       "2       0        7\n",
       "3       1        2"
      ]
     },
     "execution_count": 11,
     "metadata": {},
     "output_type": "execute_result"
    }
   ],
   "source": [
    "purchases=pd.DataFrame(data)\n",
    "\n",
    "purchases\n",
    "\n",
    "#And then pass it to the pandas DataFrame constructor:"
   ]
  },
  {
   "cell_type": "code",
   "execution_count": 12,
   "id": "7c8b223a",
   "metadata": {},
   "outputs": [
    {
     "data": {
      "text/html": [
       "<div>\n",
       "<style scoped>\n",
       "    .dataframe tbody tr th:only-of-type {\n",
       "        vertical-align: middle;\n",
       "    }\n",
       "\n",
       "    .dataframe tbody tr th {\n",
       "        vertical-align: top;\n",
       "    }\n",
       "\n",
       "    .dataframe thead th {\n",
       "        text-align: right;\n",
       "    }\n",
       "</style>\n",
       "<table border=\"1\" class=\"dataframe\">\n",
       "  <thead>\n",
       "    <tr style=\"text-align: right;\">\n",
       "      <th></th>\n",
       "      <th>apples</th>\n",
       "      <th>oranges</th>\n",
       "    </tr>\n",
       "  </thead>\n",
       "  <tbody>\n",
       "    <tr>\n",
       "      <th>Rob</th>\n",
       "      <td>3</td>\n",
       "      <td>0</td>\n",
       "    </tr>\n",
       "    <tr>\n",
       "      <th>May</th>\n",
       "      <td>2</td>\n",
       "      <td>3</td>\n",
       "    </tr>\n",
       "    <tr>\n",
       "      <th>Peter</th>\n",
       "      <td>0</td>\n",
       "      <td>7</td>\n",
       "    </tr>\n",
       "    <tr>\n",
       "      <th>Ned</th>\n",
       "      <td>1</td>\n",
       "      <td>2</td>\n",
       "    </tr>\n",
       "  </tbody>\n",
       "</table>\n",
       "</div>"
      ],
      "text/plain": [
       "       apples  oranges\n",
       "Rob         3        0\n",
       "May         2        3\n",
       "Peter       0        7\n",
       "Ned         1        2"
      ]
     },
     "execution_count": 12,
     "metadata": {},
     "output_type": "execute_result"
    }
   ],
   "source": [
    "#Let's have customer names as our index:\n",
    "\n",
    "purchases=pd.DataFrame(data, index=['Rob', 'May', 'Peter', 'Ned'])\n",
    "\n",
    "purchases"
   ]
  },
  {
   "cell_type": "code",
   "execution_count": 13,
   "id": "949f0711",
   "metadata": {},
   "outputs": [
    {
     "data": {
      "text/plain": [
       "Rob      3\n",
       "May      2\n",
       "Peter    0\n",
       "Ned      1\n",
       "Name: apples, dtype: int64"
      ]
     },
     "execution_count": 13,
     "metadata": {},
     "output_type": "execute_result"
    }
   ],
   "source": [
    "purchases ['apples']"
   ]
  },
  {
   "cell_type": "code",
   "execution_count": 14,
   "id": "edcd98b2",
   "metadata": {},
   "outputs": [
    {
     "data": {
      "text/plain": [
       "apples     2\n",
       "oranges    3\n",
       "Name: May, dtype: int64"
      ]
     },
     "execution_count": 14,
     "metadata": {},
     "output_type": "execute_result"
    }
   ],
   "source": [
    "purchases.loc['May']\n",
    "\n",
    "#locate a purchase by name"
   ]
  },
  {
   "cell_type": "code",
   "execution_count": 15,
   "id": "1d168936",
   "metadata": {},
   "outputs": [],
   "source": [
    "import sqlite3\n",
    "con=sqlite3.connect(\"database.db\")"
   ]
  },
  {
   "cell_type": "code",
   "execution_count": 16,
   "id": "14e0a004",
   "metadata": {},
   "outputs": [
    {
     "data": {
      "text/plain": [
       "[10, 12, 4, 6]"
      ]
     },
     "execution_count": 16,
     "metadata": {},
     "output_type": "execute_result"
    }
   ],
   "source": [
    "original_list = [10, 12, 17, 29, 4, 6]\n",
    "new_list = []\n",
    "\n",
    "for num in original_list:\n",
    "    if num % 2 == 0:\n",
    "        new_list.append(num)\n",
    "\n",
    "new_list        "
   ]
  },
  {
   "cell_type": "markdown",
   "id": "41bdba77",
   "metadata": {},
   "source": [
    "## Class 8 Data Cleaning Practice"
   ]
  },
  {
   "cell_type": "code",
   "execution_count": 17,
   "id": "7d6e48d1",
   "metadata": {},
   "outputs": [],
   "source": [
    "#create dictionary\n",
    "\n",
    "data={\n",
    "    'name':['A', 'B', 'C', 'D', 'E'],\n",
    "    'score':[56, 45, 87,np.nan, 99],\n",
    "    'address':['Goa', 'Mumbai', 'Delhi', np.nan, 'Mysore'],\n",
    "    'height': [165, 3, 170,np.nan, 167],\n",
    "    'weight':[56, 65, 58,np.nan, 60]\n",
    "}\n",
    "\n",
    "#use np.nan to include null values. first import numpy as np"
   ]
  },
  {
   "cell_type": "code",
   "execution_count": 18,
   "id": "77ae5806",
   "metadata": {},
   "outputs": [
    {
     "data": {
      "text/html": [
       "<div>\n",
       "<style scoped>\n",
       "    .dataframe tbody tr th:only-of-type {\n",
       "        vertical-align: middle;\n",
       "    }\n",
       "\n",
       "    .dataframe tbody tr th {\n",
       "        vertical-align: top;\n",
       "    }\n",
       "\n",
       "    .dataframe thead th {\n",
       "        text-align: right;\n",
       "    }\n",
       "</style>\n",
       "<table border=\"1\" class=\"dataframe\">\n",
       "  <thead>\n",
       "    <tr style=\"text-align: right;\">\n",
       "      <th></th>\n",
       "      <th>name</th>\n",
       "      <th>score</th>\n",
       "      <th>address</th>\n",
       "      <th>height</th>\n",
       "      <th>weight</th>\n",
       "    </tr>\n",
       "  </thead>\n",
       "  <tbody>\n",
       "    <tr>\n",
       "      <th>0</th>\n",
       "      <td>A</td>\n",
       "      <td>56.0</td>\n",
       "      <td>Goa</td>\n",
       "      <td>165.0</td>\n",
       "      <td>56.0</td>\n",
       "    </tr>\n",
       "    <tr>\n",
       "      <th>1</th>\n",
       "      <td>B</td>\n",
       "      <td>45.0</td>\n",
       "      <td>Mumbai</td>\n",
       "      <td>3.0</td>\n",
       "      <td>65.0</td>\n",
       "    </tr>\n",
       "    <tr>\n",
       "      <th>2</th>\n",
       "      <td>C</td>\n",
       "      <td>87.0</td>\n",
       "      <td>Delhi</td>\n",
       "      <td>170.0</td>\n",
       "      <td>58.0</td>\n",
       "    </tr>\n",
       "    <tr>\n",
       "      <th>3</th>\n",
       "      <td>D</td>\n",
       "      <td>NaN</td>\n",
       "      <td>NaN</td>\n",
       "      <td>NaN</td>\n",
       "      <td>NaN</td>\n",
       "    </tr>\n",
       "    <tr>\n",
       "      <th>4</th>\n",
       "      <td>E</td>\n",
       "      <td>99.0</td>\n",
       "      <td>Mysore</td>\n",
       "      <td>167.0</td>\n",
       "      <td>60.0</td>\n",
       "    </tr>\n",
       "  </tbody>\n",
       "</table>\n",
       "</div>"
      ],
      "text/plain": [
       "  name  score address  height  weight\n",
       "0    A   56.0     Goa   165.0    56.0\n",
       "1    B   45.0  Mumbai     3.0    65.0\n",
       "2    C   87.0   Delhi   170.0    58.0\n",
       "3    D    NaN     NaN     NaN     NaN\n",
       "4    E   99.0  Mysore   167.0    60.0"
      ]
     },
     "execution_count": 18,
     "metadata": {},
     "output_type": "execute_result"
    }
   ],
   "source": [
    "student_df=pd.DataFrame(data)\n",
    "\n",
    "student_df\n",
    "\n",
    "#convert dict to dataframe"
   ]
  },
  {
   "cell_type": "code",
   "execution_count": 19,
   "id": "dc022f90",
   "metadata": {},
   "outputs": [
    {
     "data": {
      "text/plain": [
       "pandas.core.frame.DataFrame"
      ]
     },
     "execution_count": 19,
     "metadata": {},
     "output_type": "execute_result"
    }
   ],
   "source": [
    "type(student_df)\n",
    "\n",
    "#check type"
   ]
  },
  {
   "cell_type": "code",
   "execution_count": 20,
   "id": "d0fb7bea",
   "metadata": {},
   "outputs": [
    {
     "data": {
      "text/plain": [
       "name         D\n",
       "score      NaN\n",
       "address    NaN\n",
       "height     NaN\n",
       "weight     NaN\n",
       "Name: 3, dtype: object"
      ]
     },
     "execution_count": 20,
     "metadata": {},
     "output_type": "execute_result"
    }
   ],
   "source": [
    "student_df.loc[3]\n",
    "\n",
    "#locate by index"
   ]
  },
  {
   "cell_type": "code",
   "execution_count": 21,
   "id": "d689a4ca",
   "metadata": {},
   "outputs": [
    {
     "data": {
      "text/plain": [
       "name       0\n",
       "score      1\n",
       "address    1\n",
       "height     1\n",
       "weight     1\n",
       "dtype: int64"
      ]
     },
     "execution_count": 21,
     "metadata": {},
     "output_type": "execute_result"
    }
   ],
   "source": [
    "student_df.isnull().sum()\n",
    "\n",
    "#check for null values"
   ]
  },
  {
   "cell_type": "code",
   "execution_count": 22,
   "id": "ca293cb5",
   "metadata": {},
   "outputs": [
    {
     "data": {
      "text/html": [
       "<div>\n",
       "<style scoped>\n",
       "    .dataframe tbody tr th:only-of-type {\n",
       "        vertical-align: middle;\n",
       "    }\n",
       "\n",
       "    .dataframe tbody tr th {\n",
       "        vertical-align: top;\n",
       "    }\n",
       "\n",
       "    .dataframe thead th {\n",
       "        text-align: right;\n",
       "    }\n",
       "</style>\n",
       "<table border=\"1\" class=\"dataframe\">\n",
       "  <thead>\n",
       "    <tr style=\"text-align: right;\">\n",
       "      <th></th>\n",
       "      <th>name</th>\n",
       "      <th>score</th>\n",
       "      <th>address</th>\n",
       "      <th>height</th>\n",
       "      <th>weight</th>\n",
       "    </tr>\n",
       "  </thead>\n",
       "  <tbody>\n",
       "    <tr>\n",
       "      <th>0</th>\n",
       "      <td>A</td>\n",
       "      <td>56.0</td>\n",
       "      <td>Goa</td>\n",
       "      <td>165.0</td>\n",
       "      <td>56.0</td>\n",
       "    </tr>\n",
       "    <tr>\n",
       "      <th>1</th>\n",
       "      <td>B</td>\n",
       "      <td>45.0</td>\n",
       "      <td>Mumbai</td>\n",
       "      <td>3.0</td>\n",
       "      <td>65.0</td>\n",
       "    </tr>\n",
       "    <tr>\n",
       "      <th>2</th>\n",
       "      <td>C</td>\n",
       "      <td>87.0</td>\n",
       "      <td>Delhi</td>\n",
       "      <td>170.0</td>\n",
       "      <td>58.0</td>\n",
       "    </tr>\n",
       "    <tr>\n",
       "      <th>4</th>\n",
       "      <td>E</td>\n",
       "      <td>99.0</td>\n",
       "      <td>Mysore</td>\n",
       "      <td>167.0</td>\n",
       "      <td>60.0</td>\n",
       "    </tr>\n",
       "  </tbody>\n",
       "</table>\n",
       "</div>"
      ],
      "text/plain": [
       "  name  score address  height  weight\n",
       "0    A   56.0     Goa   165.0    56.0\n",
       "1    B   45.0  Mumbai     3.0    65.0\n",
       "2    C   87.0   Delhi   170.0    58.0\n",
       "4    E   99.0  Mysore   167.0    60.0"
      ]
     },
     "execution_count": 22,
     "metadata": {},
     "output_type": "execute_result"
    }
   ],
   "source": [
    "student_df.dropna()\n",
    "\n",
    "#drop null values"
   ]
  },
  {
   "cell_type": "markdown",
   "id": "94fe9b88",
   "metadata": {},
   "source": [
    "**Dropping unnecessary Columns**\n",
    "\n",
    "When we receive the data from stakeholders, generally it is huge. There can be a log ofdata that might not add any value to our model. Such data is better removed as it wouldvaluable resources like memory and processing time.\n",
    "For example, while looking at students’ performance over a test, students’ weight or theirheight does not have anything to contribute to the model."
   ]
  },
  {
   "cell_type": "code",
   "execution_count": 23,
   "id": "38c97f7b",
   "metadata": {},
   "outputs": [],
   "source": [
    "#student_df.drop(['height','weight'], axis=1, inplace=True)\n",
    "\n",
    "#Drops Height column form the dataframe\n",
    "\n",
    "#student_df.drop(['height', 'weight'], axis=1)\n",
    "\n",
    "\n",
    "#Not working. Error message not picking up columns. See below for work around\n"
   ]
  },
  {
   "cell_type": "code",
   "execution_count": 24,
   "id": "c968811a",
   "metadata": {},
   "outputs": [
    {
     "data": {
      "text/html": [
       "<div>\n",
       "<style scoped>\n",
       "    .dataframe tbody tr th:only-of-type {\n",
       "        vertical-align: middle;\n",
       "    }\n",
       "\n",
       "    .dataframe tbody tr th {\n",
       "        vertical-align: top;\n",
       "    }\n",
       "\n",
       "    .dataframe thead th {\n",
       "        text-align: right;\n",
       "    }\n",
       "</style>\n",
       "<table border=\"1\" class=\"dataframe\">\n",
       "  <thead>\n",
       "    <tr style=\"text-align: right;\">\n",
       "      <th></th>\n",
       "      <th>name</th>\n",
       "      <th>score</th>\n",
       "      <th>address</th>\n",
       "      <th>height</th>\n",
       "      <th>weight</th>\n",
       "    </tr>\n",
       "  </thead>\n",
       "  <tbody>\n",
       "    <tr>\n",
       "      <th>0</th>\n",
       "      <td>A</td>\n",
       "      <td>56.0</td>\n",
       "      <td>Goa</td>\n",
       "      <td>165.0</td>\n",
       "      <td>56.0</td>\n",
       "    </tr>\n",
       "    <tr>\n",
       "      <th>1</th>\n",
       "      <td>B</td>\n",
       "      <td>45.0</td>\n",
       "      <td>Mumbai</td>\n",
       "      <td>3.0</td>\n",
       "      <td>65.0</td>\n",
       "    </tr>\n",
       "    <tr>\n",
       "      <th>2</th>\n",
       "      <td>C</td>\n",
       "      <td>87.0</td>\n",
       "      <td>Delhi</td>\n",
       "      <td>170.0</td>\n",
       "      <td>58.0</td>\n",
       "    </tr>\n",
       "    <tr>\n",
       "      <th>3</th>\n",
       "      <td>D</td>\n",
       "      <td>NaN</td>\n",
       "      <td>NaN</td>\n",
       "      <td>NaN</td>\n",
       "      <td>NaN</td>\n",
       "    </tr>\n",
       "    <tr>\n",
       "      <th>4</th>\n",
       "      <td>E</td>\n",
       "      <td>99.0</td>\n",
       "      <td>Mysore</td>\n",
       "      <td>167.0</td>\n",
       "      <td>60.0</td>\n",
       "    </tr>\n",
       "  </tbody>\n",
       "</table>\n",
       "</div>"
      ],
      "text/plain": [
       "  name  score address  height  weight\n",
       "0    A   56.0     Goa   165.0    56.0\n",
       "1    B   45.0  Mumbai     3.0    65.0\n",
       "2    C   87.0   Delhi   170.0    58.0\n",
       "3    D    NaN     NaN     NaN     NaN\n",
       "4    E   99.0  Mysore   167.0    60.0"
      ]
     },
     "execution_count": 24,
     "metadata": {},
     "output_type": "execute_result"
    }
   ],
   "source": [
    "#alternate way to create a dataframe from dict\n",
    "\n",
    "#.fromdict method\n",
    "\n",
    "#By default the keys of the dict become the DataFrame columns:\n",
    "\n",
    "df = pd.DataFrame.from_dict(data)\n",
    "\n",
    "df"
   ]
  },
  {
   "cell_type": "code",
   "execution_count": 25,
   "id": "6c3e79ca",
   "metadata": {},
   "outputs": [
    {
     "data": {
      "text/html": [
       "<div>\n",
       "<style scoped>\n",
       "    .dataframe tbody tr th:only-of-type {\n",
       "        vertical-align: middle;\n",
       "    }\n",
       "\n",
       "    .dataframe tbody tr th {\n",
       "        vertical-align: top;\n",
       "    }\n",
       "\n",
       "    .dataframe thead th {\n",
       "        text-align: right;\n",
       "    }\n",
       "</style>\n",
       "<table border=\"1\" class=\"dataframe\">\n",
       "  <thead>\n",
       "    <tr style=\"text-align: right;\">\n",
       "      <th></th>\n",
       "      <th>name</th>\n",
       "      <th>score</th>\n",
       "      <th>address</th>\n",
       "    </tr>\n",
       "  </thead>\n",
       "  <tbody>\n",
       "    <tr>\n",
       "      <th>0</th>\n",
       "      <td>A</td>\n",
       "      <td>56.0</td>\n",
       "      <td>Goa</td>\n",
       "    </tr>\n",
       "    <tr>\n",
       "      <th>1</th>\n",
       "      <td>B</td>\n",
       "      <td>45.0</td>\n",
       "      <td>Mumbai</td>\n",
       "    </tr>\n",
       "    <tr>\n",
       "      <th>2</th>\n",
       "      <td>C</td>\n",
       "      <td>87.0</td>\n",
       "      <td>Delhi</td>\n",
       "    </tr>\n",
       "    <tr>\n",
       "      <th>3</th>\n",
       "      <td>D</td>\n",
       "      <td>NaN</td>\n",
       "      <td>NaN</td>\n",
       "    </tr>\n",
       "    <tr>\n",
       "      <th>4</th>\n",
       "      <td>E</td>\n",
       "      <td>99.0</td>\n",
       "      <td>Mysore</td>\n",
       "    </tr>\n",
       "  </tbody>\n",
       "</table>\n",
       "</div>"
      ],
      "text/plain": [
       "  name  score address\n",
       "0    A   56.0     Goa\n",
       "1    B   45.0  Mumbai\n",
       "2    C   87.0   Delhi\n",
       "3    D    NaN     NaN\n",
       "4    E   99.0  Mysore"
      ]
     },
     "execution_count": 25,
     "metadata": {},
     "output_type": "execute_result"
    }
   ],
   "source": [
    "new_df=df.drop(['height','weight'], axis=1)\n",
    "\n",
    "#By default, the drop() function uses axis=0, which refers to the rows of the DataFrame.\n",
    "\n",
    "#Since there is no row name called “points” we receive an error.\n",
    "\n",
    "#How to Fix the Error\n",
    "#To tell pandas to look at the columns instead, we must specify axis=1 as follows:\n",
    "\n",
    "new_df"
   ]
  },
  {
   "cell_type": "code",
   "execution_count": 26,
   "id": "7af6e01a",
   "metadata": {},
   "outputs": [
    {
     "data": {
      "text/html": [
       "<div>\n",
       "<style scoped>\n",
       "    .dataframe tbody tr th:only-of-type {\n",
       "        vertical-align: middle;\n",
       "    }\n",
       "\n",
       "    .dataframe tbody tr th {\n",
       "        vertical-align: top;\n",
       "    }\n",
       "\n",
       "    .dataframe thead th {\n",
       "        text-align: right;\n",
       "    }\n",
       "</style>\n",
       "<table border=\"1\" class=\"dataframe\">\n",
       "  <thead>\n",
       "    <tr style=\"text-align: right;\">\n",
       "      <th></th>\n",
       "      <th>name</th>\n",
       "      <th>score</th>\n",
       "      <th>address</th>\n",
       "    </tr>\n",
       "  </thead>\n",
       "  <tbody>\n",
       "    <tr>\n",
       "      <th>0</th>\n",
       "      <td>A</td>\n",
       "      <td>56.0</td>\n",
       "      <td>Goa</td>\n",
       "    </tr>\n",
       "    <tr>\n",
       "      <th>1</th>\n",
       "      <td>B</td>\n",
       "      <td>45.0</td>\n",
       "      <td>Mumbai</td>\n",
       "    </tr>\n",
       "    <tr>\n",
       "      <th>2</th>\n",
       "      <td>C</td>\n",
       "      <td>87.0</td>\n",
       "      <td>Delhi</td>\n",
       "    </tr>\n",
       "    <tr>\n",
       "      <th>4</th>\n",
       "      <td>E</td>\n",
       "      <td>99.0</td>\n",
       "      <td>Mysore</td>\n",
       "    </tr>\n",
       "  </tbody>\n",
       "</table>\n",
       "</div>"
      ],
      "text/plain": [
       "  name  score address\n",
       "0    A   56.0     Goa\n",
       "1    B   45.0  Mumbai\n",
       "2    C   87.0   Delhi\n",
       "4    E   99.0  Mysore"
      ]
     },
     "execution_count": 26,
     "metadata": {},
     "output_type": "execute_result"
    }
   ],
   "source": [
    "new_df.dropna()\n",
    "#remove null values after removing unneccessary columns"
   ]
  },
  {
   "cell_type": "markdown",
   "id": "ef7dc6b8",
   "metadata": {},
   "source": [
    "**Renaming columns**\n",
    "\n",
    "It’s always better to rename the columns and format them to the most readable formatwhich can be understood by both the data scientist and the business. For example in thestudent data set, renaming the column “name” as “Sudent_Name” makes it meaningful."
   ]
  },
  {
   "cell_type": "code",
   "execution_count": 31,
   "id": "8531ba46",
   "metadata": {},
   "outputs": [
    {
     "data": {
      "text/html": [
       "<div>\n",
       "<style scoped>\n",
       "    .dataframe tbody tr th:only-of-type {\n",
       "        vertical-align: middle;\n",
       "    }\n",
       "\n",
       "    .dataframe tbody tr th {\n",
       "        vertical-align: top;\n",
       "    }\n",
       "\n",
       "    .dataframe thead th {\n",
       "        text-align: right;\n",
       "    }\n",
       "</style>\n",
       "<table border=\"1\" class=\"dataframe\">\n",
       "  <thead>\n",
       "    <tr style=\"text-align: right;\">\n",
       "      <th></th>\n",
       "      <th>Student_Name</th>\n",
       "      <th>score</th>\n",
       "      <th>Addy</th>\n",
       "    </tr>\n",
       "  </thead>\n",
       "  <tbody>\n",
       "    <tr>\n",
       "      <th>0</th>\n",
       "      <td>A</td>\n",
       "      <td>56.00</td>\n",
       "      <td>Goa</td>\n",
       "    </tr>\n",
       "    <tr>\n",
       "      <th>1</th>\n",
       "      <td>B</td>\n",
       "      <td>45.00</td>\n",
       "      <td>Mumbai</td>\n",
       "    </tr>\n",
       "    <tr>\n",
       "      <th>2</th>\n",
       "      <td>C</td>\n",
       "      <td>87.00</td>\n",
       "      <td>Delhi</td>\n",
       "    </tr>\n",
       "    <tr>\n",
       "      <th>3</th>\n",
       "      <td>D</td>\n",
       "      <td>71.75</td>\n",
       "      <td>NaN</td>\n",
       "    </tr>\n",
       "    <tr>\n",
       "      <th>4</th>\n",
       "      <td>E</td>\n",
       "      <td>99.00</td>\n",
       "      <td>Mysore</td>\n",
       "    </tr>\n",
       "  </tbody>\n",
       "</table>\n",
       "</div>"
      ],
      "text/plain": [
       "  Student_Name  score    Addy\n",
       "0            A  56.00     Goa\n",
       "1            B  45.00  Mumbai\n",
       "2            C  87.00   Delhi\n",
       "3            D  71.75     NaN\n",
       "4            E  99.00  Mysore"
      ]
     },
     "execution_count": 31,
     "metadata": {},
     "output_type": "execute_result"
    }
   ],
   "source": [
    "new_df=new_df.rename(columns={'name': 'Student_Name', 'address': 'Addy'})\n",
    "\n",
    "new_df"
   ]
  },
  {
   "cell_type": "markdown",
   "id": "6b58184f",
   "metadata": {},
   "source": [
    "**Treating missing values**\n",
    "\n",
    "\n",
    "There are many ways to take care of the missing values in a dataset. It’s up to the datascientist and the dataset in hand to choose the most appropriate method. The mostcommonly used methods are imputing the dataset with mean, median, or mode.Removing those particular records with one or more values missing and in some casescreating machine learning algorithms like linear regression and K nearest neighbor is alsoused for treating the missing values."
   ]
  },
  {
   "cell_type": "code",
   "execution_count": 32,
   "id": "1e903e05",
   "metadata": {},
   "outputs": [
    {
     "data": {
      "text/html": [
       "<div>\n",
       "<style scoped>\n",
       "    .dataframe tbody tr th:only-of-type {\n",
       "        vertical-align: middle;\n",
       "    }\n",
       "\n",
       "    .dataframe tbody tr th {\n",
       "        vertical-align: top;\n",
       "    }\n",
       "\n",
       "    .dataframe thead th {\n",
       "        text-align: right;\n",
       "    }\n",
       "</style>\n",
       "<table border=\"1\" class=\"dataframe\">\n",
       "  <thead>\n",
       "    <tr style=\"text-align: right;\">\n",
       "      <th></th>\n",
       "      <th>Student_Name</th>\n",
       "      <th>score</th>\n",
       "      <th>Addy</th>\n",
       "    </tr>\n",
       "  </thead>\n",
       "  <tbody>\n",
       "    <tr>\n",
       "      <th>0</th>\n",
       "      <td>A</td>\n",
       "      <td>56.00</td>\n",
       "      <td>Goa</td>\n",
       "    </tr>\n",
       "    <tr>\n",
       "      <th>1</th>\n",
       "      <td>B</td>\n",
       "      <td>45.00</td>\n",
       "      <td>Mumbai</td>\n",
       "    </tr>\n",
       "    <tr>\n",
       "      <th>2</th>\n",
       "      <td>C</td>\n",
       "      <td>87.00</td>\n",
       "      <td>Delhi</td>\n",
       "    </tr>\n",
       "    <tr>\n",
       "      <th>3</th>\n",
       "      <td>D</td>\n",
       "      <td>71.75</td>\n",
       "      <td>NaN</td>\n",
       "    </tr>\n",
       "    <tr>\n",
       "      <th>4</th>\n",
       "      <td>E</td>\n",
       "      <td>99.00</td>\n",
       "      <td>Mysore</td>\n",
       "    </tr>\n",
       "  </tbody>\n",
       "</table>\n",
       "</div>"
      ],
      "text/plain": [
       "  Student_Name  score    Addy\n",
       "0            A  56.00     Goa\n",
       "1            B  45.00  Mumbai\n",
       "2            C  87.00   Delhi\n",
       "3            D  71.75     NaN\n",
       "4            E  99.00  Mysore"
      ]
     },
     "execution_count": 32,
     "metadata": {},
     "output_type": "execute_result"
    }
   ],
   "source": [
    "new_df['score'].fillna((new_df['score'].mean()), inplace=True)\n",
    "# Na values in col_name is replaced with mean\n",
    "# NaN values in 'col_name' is replaced with mean\n",
    "\n",
    "\n",
    "new_df"
   ]
  },
  {
   "cell_type": "code",
   "execution_count": 34,
   "id": "1ab641e2",
   "metadata": {},
   "outputs": [
    {
     "data": {
      "text/html": [
       "<div>\n",
       "<style scoped>\n",
       "    .dataframe tbody tr th:only-of-type {\n",
       "        vertical-align: middle;\n",
       "    }\n",
       "\n",
       "    .dataframe tbody tr th {\n",
       "        vertical-align: top;\n",
       "    }\n",
       "\n",
       "    .dataframe thead th {\n",
       "        text-align: right;\n",
       "    }\n",
       "</style>\n",
       "<table border=\"1\" class=\"dataframe\">\n",
       "  <thead>\n",
       "    <tr style=\"text-align: right;\">\n",
       "      <th></th>\n",
       "      <th>Student_Name</th>\n",
       "      <th>score</th>\n",
       "      <th>Addy</th>\n",
       "    </tr>\n",
       "  </thead>\n",
       "  <tbody>\n",
       "    <tr>\n",
       "      <th>0</th>\n",
       "      <td>A</td>\n",
       "      <td>56.00</td>\n",
       "      <td>Goa</td>\n",
       "    </tr>\n",
       "    <tr>\n",
       "      <th>1</th>\n",
       "      <td>B</td>\n",
       "      <td>45.00</td>\n",
       "      <td>Mumbai</td>\n",
       "    </tr>\n",
       "    <tr>\n",
       "      <th>2</th>\n",
       "      <td>C</td>\n",
       "      <td>87.00</td>\n",
       "      <td>Delhi</td>\n",
       "    </tr>\n",
       "    <tr>\n",
       "      <th>3</th>\n",
       "      <td>D</td>\n",
       "      <td>71.75</td>\n",
       "      <td>LA LA Land</td>\n",
       "    </tr>\n",
       "    <tr>\n",
       "      <th>4</th>\n",
       "      <td>E</td>\n",
       "      <td>99.00</td>\n",
       "      <td>Mysore</td>\n",
       "    </tr>\n",
       "  </tbody>\n",
       "</table>\n",
       "</div>"
      ],
      "text/plain": [
       "  Student_Name  score        Addy\n",
       "0            A  56.00         Goa\n",
       "1            B  45.00      Mumbai\n",
       "2            C  87.00       Delhi\n",
       "3            D  71.75  LA LA Land\n",
       "4            E  99.00      Mysore"
      ]
     },
     "execution_count": 34,
     "metadata": {},
     "output_type": "execute_result"
    }
   ],
   "source": [
    "df_copy = new_df.copy()\n",
    "df_copy['Addy'] = df_copy['Addy'].fillna('LA LA Land')\n",
    "\n",
    "df_copy"
   ]
  },
  {
   "cell_type": "code",
   "execution_count": null,
   "id": "516dd364",
   "metadata": {},
   "outputs": [],
   "source": []
  }
 ],
 "metadata": {
  "kernelspec": {
   "display_name": "Python 3 (ipykernel)",
   "language": "python",
   "name": "python3"
  },
  "language_info": {
   "codemirror_mode": {
    "name": "ipython",
    "version": 3
   },
   "file_extension": ".py",
   "mimetype": "text/x-python",
   "name": "python",
   "nbconvert_exporter": "python",
   "pygments_lexer": "ipython3",
   "version": "3.9.12"
  }
 },
 "nbformat": 4,
 "nbformat_minor": 5
}
