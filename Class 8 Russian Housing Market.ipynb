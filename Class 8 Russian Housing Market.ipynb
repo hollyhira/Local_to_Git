{
 "cells": [
  {
   "cell_type": "code",
   "execution_count": 46,
   "id": "7295053d",
   "metadata": {},
   "outputs": [],
   "source": [
    "import pandas as pd\n",
    "import numpy as np\n",
    "import seaborn as sns\n",
    "import matplotlib.pyplot as plt\n",
    "import matplotlib.mlab as mlab\n",
    "import matplotlib\n",
    "from nltk.metrics import edit_distance"
   ]
  },
  {
   "cell_type": "code",
   "execution_count": 2,
   "id": "ec2b2a68",
   "metadata": {},
   "outputs": [],
   "source": [
    "df=pd.read_csv(r\"C:\\Users\\holly\\Desktop\\Launch code-Data Analysis\\Class 8 Reading\\sberbank-russian-housing-market\\train.csv\\train.csv\")"
   ]
  },
  {
   "cell_type": "code",
   "execution_count": 3,
   "id": "f523fe04",
   "metadata": {
    "scrolled": true
   },
   "outputs": [
    {
     "data": {
      "text/html": [
       "<div>\n",
       "<style scoped>\n",
       "    .dataframe tbody tr th:only-of-type {\n",
       "        vertical-align: middle;\n",
       "    }\n",
       "\n",
       "    .dataframe tbody tr th {\n",
       "        vertical-align: top;\n",
       "    }\n",
       "\n",
       "    .dataframe thead th {\n",
       "        text-align: right;\n",
       "    }\n",
       "</style>\n",
       "<table border=\"1\" class=\"dataframe\">\n",
       "  <thead>\n",
       "    <tr style=\"text-align: right;\">\n",
       "      <th></th>\n",
       "      <th>id</th>\n",
       "      <th>timestamp</th>\n",
       "      <th>full_sq</th>\n",
       "      <th>life_sq</th>\n",
       "      <th>floor</th>\n",
       "      <th>max_floor</th>\n",
       "      <th>material</th>\n",
       "      <th>build_year</th>\n",
       "      <th>num_room</th>\n",
       "      <th>kitch_sq</th>\n",
       "      <th>...</th>\n",
       "      <th>cafe_count_5000_price_2500</th>\n",
       "      <th>cafe_count_5000_price_4000</th>\n",
       "      <th>cafe_count_5000_price_high</th>\n",
       "      <th>big_church_count_5000</th>\n",
       "      <th>church_count_5000</th>\n",
       "      <th>mosque_count_5000</th>\n",
       "      <th>leisure_count_5000</th>\n",
       "      <th>sport_count_5000</th>\n",
       "      <th>market_count_5000</th>\n",
       "      <th>price_doc</th>\n",
       "    </tr>\n",
       "  </thead>\n",
       "  <tbody>\n",
       "    <tr>\n",
       "      <th>0</th>\n",
       "      <td>1</td>\n",
       "      <td>2011-08-20</td>\n",
       "      <td>43</td>\n",
       "      <td>27.0</td>\n",
       "      <td>4.0</td>\n",
       "      <td>NaN</td>\n",
       "      <td>NaN</td>\n",
       "      <td>NaN</td>\n",
       "      <td>NaN</td>\n",
       "      <td>NaN</td>\n",
       "      <td>...</td>\n",
       "      <td>9</td>\n",
       "      <td>4</td>\n",
       "      <td>0</td>\n",
       "      <td>13</td>\n",
       "      <td>22</td>\n",
       "      <td>1</td>\n",
       "      <td>0</td>\n",
       "      <td>52</td>\n",
       "      <td>4</td>\n",
       "      <td>5850000</td>\n",
       "    </tr>\n",
       "    <tr>\n",
       "      <th>1</th>\n",
       "      <td>2</td>\n",
       "      <td>2011-08-23</td>\n",
       "      <td>34</td>\n",
       "      <td>19.0</td>\n",
       "      <td>3.0</td>\n",
       "      <td>NaN</td>\n",
       "      <td>NaN</td>\n",
       "      <td>NaN</td>\n",
       "      <td>NaN</td>\n",
       "      <td>NaN</td>\n",
       "      <td>...</td>\n",
       "      <td>15</td>\n",
       "      <td>3</td>\n",
       "      <td>0</td>\n",
       "      <td>15</td>\n",
       "      <td>29</td>\n",
       "      <td>1</td>\n",
       "      <td>10</td>\n",
       "      <td>66</td>\n",
       "      <td>14</td>\n",
       "      <td>6000000</td>\n",
       "    </tr>\n",
       "    <tr>\n",
       "      <th>2</th>\n",
       "      <td>3</td>\n",
       "      <td>2011-08-27</td>\n",
       "      <td>43</td>\n",
       "      <td>29.0</td>\n",
       "      <td>2.0</td>\n",
       "      <td>NaN</td>\n",
       "      <td>NaN</td>\n",
       "      <td>NaN</td>\n",
       "      <td>NaN</td>\n",
       "      <td>NaN</td>\n",
       "      <td>...</td>\n",
       "      <td>10</td>\n",
       "      <td>3</td>\n",
       "      <td>0</td>\n",
       "      <td>11</td>\n",
       "      <td>27</td>\n",
       "      <td>0</td>\n",
       "      <td>4</td>\n",
       "      <td>67</td>\n",
       "      <td>10</td>\n",
       "      <td>5700000</td>\n",
       "    </tr>\n",
       "    <tr>\n",
       "      <th>3</th>\n",
       "      <td>4</td>\n",
       "      <td>2011-09-01</td>\n",
       "      <td>89</td>\n",
       "      <td>50.0</td>\n",
       "      <td>9.0</td>\n",
       "      <td>NaN</td>\n",
       "      <td>NaN</td>\n",
       "      <td>NaN</td>\n",
       "      <td>NaN</td>\n",
       "      <td>NaN</td>\n",
       "      <td>...</td>\n",
       "      <td>11</td>\n",
       "      <td>2</td>\n",
       "      <td>1</td>\n",
       "      <td>4</td>\n",
       "      <td>4</td>\n",
       "      <td>0</td>\n",
       "      <td>0</td>\n",
       "      <td>26</td>\n",
       "      <td>3</td>\n",
       "      <td>13100000</td>\n",
       "    </tr>\n",
       "    <tr>\n",
       "      <th>4</th>\n",
       "      <td>5</td>\n",
       "      <td>2011-09-05</td>\n",
       "      <td>77</td>\n",
       "      <td>77.0</td>\n",
       "      <td>4.0</td>\n",
       "      <td>NaN</td>\n",
       "      <td>NaN</td>\n",
       "      <td>NaN</td>\n",
       "      <td>NaN</td>\n",
       "      <td>NaN</td>\n",
       "      <td>...</td>\n",
       "      <td>319</td>\n",
       "      <td>108</td>\n",
       "      <td>17</td>\n",
       "      <td>135</td>\n",
       "      <td>236</td>\n",
       "      <td>2</td>\n",
       "      <td>91</td>\n",
       "      <td>195</td>\n",
       "      <td>14</td>\n",
       "      <td>16331452</td>\n",
       "    </tr>\n",
       "  </tbody>\n",
       "</table>\n",
       "<p>5 rows × 292 columns</p>\n",
       "</div>"
      ],
      "text/plain": [
       "   id   timestamp  full_sq  life_sq  floor  max_floor  material  build_year  \\\n",
       "0   1  2011-08-20       43     27.0    4.0        NaN       NaN         NaN   \n",
       "1   2  2011-08-23       34     19.0    3.0        NaN       NaN         NaN   \n",
       "2   3  2011-08-27       43     29.0    2.0        NaN       NaN         NaN   \n",
       "3   4  2011-09-01       89     50.0    9.0        NaN       NaN         NaN   \n",
       "4   5  2011-09-05       77     77.0    4.0        NaN       NaN         NaN   \n",
       "\n",
       "   num_room  kitch_sq  ...  cafe_count_5000_price_2500  \\\n",
       "0       NaN       NaN  ...                           9   \n",
       "1       NaN       NaN  ...                          15   \n",
       "2       NaN       NaN  ...                          10   \n",
       "3       NaN       NaN  ...                          11   \n",
       "4       NaN       NaN  ...                         319   \n",
       "\n",
       "  cafe_count_5000_price_4000 cafe_count_5000_price_high  \\\n",
       "0                          4                          0   \n",
       "1                          3                          0   \n",
       "2                          3                          0   \n",
       "3                          2                          1   \n",
       "4                        108                         17   \n",
       "\n",
       "   big_church_count_5000  church_count_5000  mosque_count_5000  \\\n",
       "0                     13                 22                  1   \n",
       "1                     15                 29                  1   \n",
       "2                     11                 27                  0   \n",
       "3                      4                  4                  0   \n",
       "4                    135                236                  2   \n",
       "\n",
       "   leisure_count_5000  sport_count_5000  market_count_5000  price_doc  \n",
       "0                   0                52                  4    5850000  \n",
       "1                  10                66                 14    6000000  \n",
       "2                   4                67                 10    5700000  \n",
       "3                   0                26                  3   13100000  \n",
       "4                  91               195                 14   16331452  \n",
       "\n",
       "[5 rows x 292 columns]"
      ]
     },
     "execution_count": 3,
     "metadata": {},
     "output_type": "execute_result"
    }
   ],
   "source": [
    "df.head()"
   ]
  },
  {
   "cell_type": "code",
   "execution_count": 4,
   "id": "175818d1",
   "metadata": {},
   "outputs": [
    {
     "name": "stdout",
     "output_type": "stream",
     "text": [
      "<class 'pandas.core.frame.DataFrame'>\n",
      "RangeIndex: 30471 entries, 0 to 30470\n",
      "Data columns (total 292 columns):\n",
      " #    Column                                 Dtype  \n",
      "---   ------                                 -----  \n",
      " 0    id                                     int64  \n",
      " 1    timestamp                              object \n",
      " 2    full_sq                                int64  \n",
      " 3    life_sq                                float64\n",
      " 4    floor                                  float64\n",
      " 5    max_floor                              float64\n",
      " 6    material                               float64\n",
      " 7    build_year                             float64\n",
      " 8    num_room                               float64\n",
      " 9    kitch_sq                               float64\n",
      " 10   state                                  float64\n",
      " 11   product_type                           object \n",
      " 12   sub_area                               object \n",
      " 13   area_m                                 float64\n",
      " 14   raion_popul                            int64  \n",
      " 15   green_zone_part                        float64\n",
      " 16   indust_part                            float64\n",
      " 17   children_preschool                     int64  \n",
      " 18   preschool_quota                        float64\n",
      " 19   preschool_education_centers_raion      int64  \n",
      " 20   children_school                        int64  \n",
      " 21   school_quota                           float64\n",
      " 22   school_education_centers_raion         int64  \n",
      " 23   school_education_centers_top_20_raion  int64  \n",
      " 24   hospital_beds_raion                    float64\n",
      " 25   healthcare_centers_raion               int64  \n",
      " 26   university_top_20_raion                int64  \n",
      " 27   sport_objects_raion                    int64  \n",
      " 28   additional_education_raion             int64  \n",
      " 29   culture_objects_top_25                 object \n",
      " 30   culture_objects_top_25_raion           int64  \n",
      " 31   shopping_centers_raion                 int64  \n",
      " 32   office_raion                           int64  \n",
      " 33   thermal_power_plant_raion              object \n",
      " 34   incineration_raion                     object \n",
      " 35   oil_chemistry_raion                    object \n",
      " 36   radiation_raion                        object \n",
      " 37   railroad_terminal_raion                object \n",
      " 38   big_market_raion                       object \n",
      " 39   nuclear_reactor_raion                  object \n",
      " 40   detention_facility_raion               object \n",
      " 41   full_all                               int64  \n",
      " 42   male_f                                 int64  \n",
      " 43   female_f                               int64  \n",
      " 44   young_all                              int64  \n",
      " 45   young_male                             int64  \n",
      " 46   young_female                           int64  \n",
      " 47   work_all                               int64  \n",
      " 48   work_male                              int64  \n",
      " 49   work_female                            int64  \n",
      " 50   ekder_all                              int64  \n",
      " 51   ekder_male                             int64  \n",
      " 52   ekder_female                           int64  \n",
      " 53   0_6_all                                int64  \n",
      " 54   0_6_male                               int64  \n",
      " 55   0_6_female                             int64  \n",
      " 56   7_14_all                               int64  \n",
      " 57   7_14_male                              int64  \n",
      " 58   7_14_female                            int64  \n",
      " 59   0_17_all                               int64  \n",
      " 60   0_17_male                              int64  \n",
      " 61   0_17_female                            int64  \n",
      " 62   16_29_all                              int64  \n",
      " 63   16_29_male                             int64  \n",
      " 64   16_29_female                           int64  \n",
      " 65   0_13_all                               int64  \n",
      " 66   0_13_male                              int64  \n",
      " 67   0_13_female                            int64  \n",
      " 68   raion_build_count_with_material_info   float64\n",
      " 69   build_count_block                      float64\n",
      " 70   build_count_wood                       float64\n",
      " 71   build_count_frame                      float64\n",
      " 72   build_count_brick                      float64\n",
      " 73   build_count_monolith                   float64\n",
      " 74   build_count_panel                      float64\n",
      " 75   build_count_foam                       float64\n",
      " 76   build_count_slag                       float64\n",
      " 77   build_count_mix                        float64\n",
      " 78   raion_build_count_with_builddate_info  float64\n",
      " 79   build_count_before_1920                float64\n",
      " 80   build_count_1921-1945                  float64\n",
      " 81   build_count_1946-1970                  float64\n",
      " 82   build_count_1971-1995                  float64\n",
      " 83   build_count_after_1995                 float64\n",
      " 84   ID_metro                               int64  \n",
      " 85   metro_min_avto                         float64\n",
      " 86   metro_km_avto                          float64\n",
      " 87   metro_min_walk                         float64\n",
      " 88   metro_km_walk                          float64\n",
      " 89   kindergarten_km                        float64\n",
      " 90   school_km                              float64\n",
      " 91   park_km                                float64\n",
      " 92   green_zone_km                          float64\n",
      " 93   industrial_km                          float64\n",
      " 94   water_treatment_km                     float64\n",
      " 95   cemetery_km                            float64\n",
      " 96   incineration_km                        float64\n",
      " 97   railroad_station_walk_km               float64\n",
      " 98   railroad_station_walk_min              float64\n",
      " 99   ID_railroad_station_walk               float64\n",
      " 100  railroad_station_avto_km               float64\n",
      " 101  railroad_station_avto_min              float64\n",
      " 102  ID_railroad_station_avto               int64  \n",
      " 103  public_transport_station_km            float64\n",
      " 104  public_transport_station_min_walk      float64\n",
      " 105  water_km                               float64\n",
      " 106  water_1line                            object \n",
      " 107  mkad_km                                float64\n",
      " 108  ttk_km                                 float64\n",
      " 109  sadovoe_km                             float64\n",
      " 110  bulvar_ring_km                         float64\n",
      " 111  kremlin_km                             float64\n",
      " 112  big_road1_km                           float64\n",
      " 113  ID_big_road1                           int64  \n",
      " 114  big_road1_1line                        object \n",
      " 115  big_road2_km                           float64\n",
      " 116  ID_big_road2                           int64  \n",
      " 117  railroad_km                            float64\n",
      " 118  railroad_1line                         object \n",
      " 119  zd_vokzaly_avto_km                     float64\n",
      " 120  ID_railroad_terminal                   int64  \n",
      " 121  bus_terminal_avto_km                   float64\n",
      " 122  ID_bus_terminal                        int64  \n",
      " 123  oil_chemistry_km                       float64\n",
      " 124  nuclear_reactor_km                     float64\n",
      " 125  radiation_km                           float64\n",
      " 126  power_transmission_line_km             float64\n",
      " 127  thermal_power_plant_km                 float64\n",
      " 128  ts_km                                  float64\n",
      " 129  big_market_km                          float64\n",
      " 130  market_shop_km                         float64\n",
      " 131  fitness_km                             float64\n",
      " 132  swim_pool_km                           float64\n",
      " 133  ice_rink_km                            float64\n",
      " 134  stadium_km                             float64\n",
      " 135  basketball_km                          float64\n",
      " 136  hospice_morgue_km                      float64\n",
      " 137  detention_facility_km                  float64\n",
      " 138  public_healthcare_km                   float64\n",
      " 139  university_km                          float64\n",
      " 140  workplaces_km                          float64\n",
      " 141  shopping_centers_km                    float64\n",
      " 142  office_km                              float64\n",
      " 143  additional_education_km                float64\n",
      " 144  preschool_km                           float64\n",
      " 145  big_church_km                          float64\n",
      " 146  church_synagogue_km                    float64\n",
      " 147  mosque_km                              float64\n",
      " 148  theater_km                             float64\n",
      " 149  museum_km                              float64\n",
      " 150  exhibition_km                          float64\n",
      " 151  catering_km                            float64\n",
      " 152  ecology                                object \n",
      " 153  green_part_500                         float64\n",
      " 154  prom_part_500                          float64\n",
      " 155  office_count_500                       int64  \n",
      " 156  office_sqm_500                         int64  \n",
      " 157  trc_count_500                          int64  \n",
      " 158  trc_sqm_500                            int64  \n",
      " 159  cafe_count_500                         int64  \n",
      " 160  cafe_sum_500_min_price_avg             float64\n",
      " 161  cafe_sum_500_max_price_avg             float64\n",
      " 162  cafe_avg_price_500                     float64\n",
      " 163  cafe_count_500_na_price                int64  \n",
      " 164  cafe_count_500_price_500               int64  \n",
      " 165  cafe_count_500_price_1000              int64  \n",
      " 166  cafe_count_500_price_1500              int64  \n",
      " 167  cafe_count_500_price_2500              int64  \n",
      " 168  cafe_count_500_price_4000              int64  \n",
      " 169  cafe_count_500_price_high              int64  \n",
      " 170  big_church_count_500                   int64  \n",
      " 171  church_count_500                       int64  \n",
      " 172  mosque_count_500                       int64  \n",
      " 173  leisure_count_500                      int64  \n",
      " 174  sport_count_500                        int64  \n",
      " 175  market_count_500                       int64  \n",
      " 176  green_part_1000                        float64\n",
      " 177  prom_part_1000                         float64\n",
      " 178  office_count_1000                      int64  \n",
      " 179  office_sqm_1000                        int64  \n",
      " 180  trc_count_1000                         int64  \n",
      " 181  trc_sqm_1000                           int64  \n",
      " 182  cafe_count_1000                        int64  \n",
      " 183  cafe_sum_1000_min_price_avg            float64\n",
      " 184  cafe_sum_1000_max_price_avg            float64\n",
      " 185  cafe_avg_price_1000                    float64\n",
      " 186  cafe_count_1000_na_price               int64  \n",
      " 187  cafe_count_1000_price_500              int64  \n",
      " 188  cafe_count_1000_price_1000             int64  \n",
      " 189  cafe_count_1000_price_1500             int64  \n",
      " 190  cafe_count_1000_price_2500             int64  \n",
      " 191  cafe_count_1000_price_4000             int64  \n",
      " 192  cafe_count_1000_price_high             int64  \n",
      " 193  big_church_count_1000                  int64  \n",
      " 194  church_count_1000                      int64  \n",
      " 195  mosque_count_1000                      int64  \n",
      " 196  leisure_count_1000                     int64  \n",
      " 197  sport_count_1000                       int64  \n",
      " 198  market_count_1000                      int64  \n",
      " 199  green_part_1500                        float64\n",
      " 200  prom_part_1500                         float64\n",
      " 201  office_count_1500                      int64  \n",
      " 202  office_sqm_1500                        int64  \n",
      " 203  trc_count_1500                         int64  \n",
      " 204  trc_sqm_1500                           int64  \n",
      " 205  cafe_count_1500                        int64  \n",
      " 206  cafe_sum_1500_min_price_avg            float64\n",
      " 207  cafe_sum_1500_max_price_avg            float64\n",
      " 208  cafe_avg_price_1500                    float64\n",
      " 209  cafe_count_1500_na_price               int64  \n",
      " 210  cafe_count_1500_price_500              int64  \n",
      " 211  cafe_count_1500_price_1000             int64  \n",
      " 212  cafe_count_1500_price_1500             int64  \n",
      " 213  cafe_count_1500_price_2500             int64  \n",
      " 214  cafe_count_1500_price_4000             int64  \n",
      " 215  cafe_count_1500_price_high             int64  \n",
      " 216  big_church_count_1500                  int64  \n",
      " 217  church_count_1500                      int64  \n",
      " 218  mosque_count_1500                      int64  \n",
      " 219  leisure_count_1500                     int64  \n",
      " 220  sport_count_1500                       int64  \n",
      " 221  market_count_1500                      int64  \n",
      " 222  green_part_2000                        float64\n",
      " 223  prom_part_2000                         float64\n",
      " 224  office_count_2000                      int64  \n",
      " 225  office_sqm_2000                        int64  \n",
      " 226  trc_count_2000                         int64  \n",
      " 227  trc_sqm_2000                           int64  \n",
      " 228  cafe_count_2000                        int64  \n",
      " 229  cafe_sum_2000_min_price_avg            float64\n",
      " 230  cafe_sum_2000_max_price_avg            float64\n",
      " 231  cafe_avg_price_2000                    float64\n",
      " 232  cafe_count_2000_na_price               int64  \n",
      " 233  cafe_count_2000_price_500              int64  \n",
      " 234  cafe_count_2000_price_1000             int64  \n",
      " 235  cafe_count_2000_price_1500             int64  \n",
      " 236  cafe_count_2000_price_2500             int64  \n",
      " 237  cafe_count_2000_price_4000             int64  \n",
      " 238  cafe_count_2000_price_high             int64  \n",
      " 239  big_church_count_2000                  int64  \n",
      " 240  church_count_2000                      int64  \n",
      " 241  mosque_count_2000                      int64  \n",
      " 242  leisure_count_2000                     int64  \n",
      " 243  sport_count_2000                       int64  \n",
      " 244  market_count_2000                      int64  \n",
      " 245  green_part_3000                        float64\n",
      " 246  prom_part_3000                         float64\n",
      " 247  office_count_3000                      int64  \n",
      " 248  office_sqm_3000                        int64  \n",
      " 249  trc_count_3000                         int64  \n",
      " 250  trc_sqm_3000                           int64  \n",
      " 251  cafe_count_3000                        int64  \n",
      " 252  cafe_sum_3000_min_price_avg            float64\n",
      " 253  cafe_sum_3000_max_price_avg            float64\n",
      " 254  cafe_avg_price_3000                    float64\n",
      " 255  cafe_count_3000_na_price               int64  \n",
      " 256  cafe_count_3000_price_500              int64  \n",
      " 257  cafe_count_3000_price_1000             int64  \n",
      " 258  cafe_count_3000_price_1500             int64  \n",
      " 259  cafe_count_3000_price_2500             int64  \n",
      " 260  cafe_count_3000_price_4000             int64  \n",
      " 261  cafe_count_3000_price_high             int64  \n",
      " 262  big_church_count_3000                  int64  \n",
      " 263  church_count_3000                      int64  \n",
      " 264  mosque_count_3000                      int64  \n",
      " 265  leisure_count_3000                     int64  \n",
      " 266  sport_count_3000                       int64  \n",
      " 267  market_count_3000                      int64  \n",
      " 268  green_part_5000                        float64\n",
      " 269  prom_part_5000                         float64\n",
      " 270  office_count_5000                      int64  \n",
      " 271  office_sqm_5000                        int64  \n",
      " 272  trc_count_5000                         int64  \n",
      " 273  trc_sqm_5000                           int64  \n",
      " 274  cafe_count_5000                        int64  \n",
      " 275  cafe_sum_5000_min_price_avg            float64\n",
      " 276  cafe_sum_5000_max_price_avg            float64\n",
      " 277  cafe_avg_price_5000                    float64\n",
      " 278  cafe_count_5000_na_price               int64  \n",
      " 279  cafe_count_5000_price_500              int64  \n",
      " 280  cafe_count_5000_price_1000             int64  \n",
      " 281  cafe_count_5000_price_1500             int64  \n",
      " 282  cafe_count_5000_price_2500             int64  \n",
      " 283  cafe_count_5000_price_4000             int64  \n",
      " 284  cafe_count_5000_price_high             int64  \n",
      " 285  big_church_count_5000                  int64  \n",
      " 286  church_count_5000                      int64  \n",
      " 287  mosque_count_5000                      int64  \n",
      " 288  leisure_count_5000                     int64  \n",
      " 289  sport_count_5000                       int64  \n",
      " 290  market_count_5000                      int64  \n",
      " 291  price_doc                              int64  \n",
      "dtypes: float64(119), int64(157), object(16)\n",
      "memory usage: 67.9+ MB\n"
     ]
    }
   ],
   "source": [
    "df.info(verbose=True)"
   ]
  },
  {
   "cell_type": "code",
   "execution_count": 5,
   "id": "c3a2b239",
   "metadata": {},
   "outputs": [
    {
     "data": {
      "text/plain": [
       "(30471, 292)"
      ]
     },
     "execution_count": 5,
     "metadata": {},
     "output_type": "execute_result"
    }
   ],
   "source": [
    "# shape and data types of the data\n",
    "df.shape\n"
   ]
  },
  {
   "cell_type": "code",
   "execution_count": 6,
   "id": "861d0ac2",
   "metadata": {},
   "outputs": [
    {
     "data": {
      "text/plain": [
       "id                      int64\n",
       "timestamp              object\n",
       "full_sq                 int64\n",
       "life_sq               float64\n",
       "floor                 float64\n",
       "                       ...   \n",
       "mosque_count_5000       int64\n",
       "leisure_count_5000      int64\n",
       "sport_count_5000        int64\n",
       "market_count_5000       int64\n",
       "price_doc               int64\n",
       "Length: 292, dtype: object"
      ]
     },
     "execution_count": 6,
     "metadata": {},
     "output_type": "execute_result"
    }
   ],
   "source": [
    "df.dtypes"
   ]
  },
  {
   "cell_type": "code",
   "execution_count": 7,
   "id": "b100cc5b",
   "metadata": {},
   "outputs": [
    {
     "data": {
      "text/plain": [
       "Index(['id', 'full_sq', 'life_sq', 'floor', 'max_floor', 'material',\n",
       "       'build_year', 'num_room', 'kitch_sq', 'state',\n",
       "       ...\n",
       "       'cafe_count_5000_price_2500', 'cafe_count_5000_price_4000',\n",
       "       'cafe_count_5000_price_high', 'big_church_count_5000',\n",
       "       'church_count_5000', 'mosque_count_5000', 'leisure_count_5000',\n",
       "       'sport_count_5000', 'market_count_5000', 'price_doc'],\n",
       "      dtype='object', length=276)"
      ]
     },
     "execution_count": 7,
     "metadata": {},
     "output_type": "execute_result"
    }
   ],
   "source": [
    "# select numeric columns\n",
    "numeric_cols = df.select_dtypes(include=['number']).columns\n",
    "\n",
    "# df_numeric = df.select_dtypes(include=[np.number])\n",
    "# numeric_cols = df_numeric.columns.values\n",
    "\n",
    "#This code lists all columns in its entirety\n",
    "\n",
    "\n",
    "numeric_cols"
   ]
  },
  {
   "cell_type": "code",
   "execution_count": 8,
   "id": "a81a73d3",
   "metadata": {},
   "outputs": [
    {
     "data": {
      "text/plain": [
       "Index(['timestamp', 'product_type', 'sub_area', 'culture_objects_top_25',\n",
       "       'thermal_power_plant_raion', 'incineration_raion',\n",
       "       'oil_chemistry_raion', 'radiation_raion', 'railroad_terminal_raion',\n",
       "       'big_market_raion', 'nuclear_reactor_raion', 'detention_facility_raion',\n",
       "       'water_1line', 'big_road1_1line', 'railroad_1line', 'ecology'],\n",
       "      dtype='object')"
      ]
     },
     "execution_count": 8,
     "metadata": {},
     "output_type": "execute_result"
    }
   ],
   "source": [
    "# select non numeric columns\n",
    "\n",
    "# df_non_numeric = df.select_dtypes(exclude=[np.number])\n",
    "# non_numeric_cols = df_non_numeric.columns.values\n",
    "\n",
    "non_numeric_cols = df.select_dtypes(exclude=['number']).columns\n",
    "\n",
    "non_numeric_cols"
   ]
  },
  {
   "cell_type": "markdown",
   "id": "416c4f3f",
   "metadata": {},
   "source": [
    "## Method 1: missing data (by columns) count & percentage."
   ]
  },
  {
   "cell_type": "code",
   "execution_count": 9,
   "id": "2a285285",
   "metadata": {},
   "outputs": [
    {
     "name": "stdout",
     "output_type": "stream",
     "text": [
      "<class 'pandas.core.frame.DataFrame'>\n",
      "RangeIndex: 30471 entries, 0 to 30470\n",
      "Data columns (total 16 columns):\n",
      " #   Column                     Non-Null Count  Dtype \n",
      "---  ------                     --------------  ----- \n",
      " 0   timestamp                  30471 non-null  object\n",
      " 1   product_type               30471 non-null  object\n",
      " 2   sub_area                   30471 non-null  object\n",
      " 3   culture_objects_top_25     30471 non-null  object\n",
      " 4   thermal_power_plant_raion  30471 non-null  object\n",
      " 5   incineration_raion         30471 non-null  object\n",
      " 6   oil_chemistry_raion        30471 non-null  object\n",
      " 7   radiation_raion            30471 non-null  object\n",
      " 8   railroad_terminal_raion    30471 non-null  object\n",
      " 9   big_market_raion           30471 non-null  object\n",
      " 10  nuclear_reactor_raion      30471 non-null  object\n",
      " 11  detention_facility_raion   30471 non-null  object\n",
      " 12  water_1line                30471 non-null  object\n",
      " 13  big_road1_1line            30471 non-null  object\n",
      " 14  railroad_1line             30471 non-null  object\n",
      " 15  ecology                    30471 non-null  object\n",
      "dtypes: object(16)\n",
      "memory usage: 3.7+ MB\n"
     ]
    }
   ],
   "source": [
    "# This is the most basic method to detect missing data among columns.\n",
    "\n",
    "df[non_numeric_cols].info()\n",
    "\n",
    "#No missing data in non numeric columns"
   ]
  },
  {
   "cell_type": "code",
   "execution_count": 10,
   "id": "7e667838",
   "metadata": {},
   "outputs": [
    {
     "data": {
      "text/plain": [
       "id                0\n",
       "timestamp         0\n",
       "full_sq           0\n",
       "life_sq        6383\n",
       "floor           167\n",
       "max_floor      9572\n",
       "material       9572\n",
       "build_year    13605\n",
       "num_room       9572\n",
       "kitch_sq       9572\n",
       "dtype: int64"
      ]
     },
     "execution_count": 10,
     "metadata": {},
     "output_type": "execute_result"
    }
   ],
   "source": [
    "num_missing = df.isna().sum()\n",
    "num_missing[:10]"
   ]
  },
  {
   "cell_type": "markdown",
   "id": "9db6d0ff",
   "metadata": {},
   "source": [
    "num_missing stores the columns and their numbers of missing values. We can print out the first 10 columns to look at.\n",
    "\n",
    "We can see that the columns id, timestamp, full_sq has 0 missing data. While life_sq has 6,383 missing values, floor has 167 missing values, and so on.\n",
    "\n",
    "Besides the count of missing values, we can use the below code to calculate the percentages of missing values by columns. The key is to use the mean method rather than the sum method."
   ]
  },
  {
   "cell_type": "code",
   "execution_count": 11,
   "id": "249466de",
   "metadata": {},
   "outputs": [
    {
     "data": {
      "text/plain": [
       "id            0.000000\n",
       "timestamp     0.000000\n",
       "full_sq       0.000000\n",
       "life_sq       0.209478\n",
       "floor         0.005481\n",
       "max_floor     0.314135\n",
       "material      0.314135\n",
       "build_year    0.446490\n",
       "num_room      0.314135\n",
       "kitch_sq      0.314135\n",
       "dtype: float64"
      ]
     },
     "execution_count": 11,
     "metadata": {},
     "output_type": "execute_result"
    }
   ],
   "source": [
    "pct_missing = df.isna().mean()\n",
    "pct_missing[:10]"
   ]
  },
  {
   "cell_type": "code",
   "execution_count": 12,
   "id": "73d9eb20",
   "metadata": {},
   "outputs": [],
   "source": [
    "# if it's a larger dataset and the visualization takes too long can do this.\n",
    "# % of missing.\n",
    "\n",
    "\n",
    "# for col in df.columns:\n",
    "#     pct_missing = np.mean(df[col].isnull())\n",
    "#     print('{} - {}%'.format(col, round(pct_missing*100)))"
   ]
  },
  {
   "cell_type": "markdown",
   "id": "47af9e5d",
   "metadata": {},
   "source": [
    "For instance, we see that the column life_sq has 21% of its data missing, the column floor has 0.5% missing."
   ]
  },
  {
   "cell_type": "markdown",
   "id": "d7df2c47",
   "metadata": {},
   "source": [
    "## Method 2: missing data (by columns) heatmap"
   ]
  },
  {
   "cell_type": "markdown",
   "id": "4140ce1f",
   "metadata": {},
   "source": [
    "This technique is proper when you have a smaller number of columns.\n",
    "\n",
    "Let’s use the first 30 columns of our dataset as an example. We’ll use 2 Python libraries to create the heatmap: seaborn and missingno.\n",
    "\n",
    "#import seaborn as sns\n",
    "\n",
    "\n",
    "#import matplotlib.pyplot as plt"
   ]
  },
  {
   "cell_type": "code",
   "execution_count": 13,
   "id": "a5c0982b",
   "metadata": {},
   "outputs": [
    {
     "data": {
      "text/plain": [
       "<AxesSubplot:>"
      ]
     },
     "execution_count": 13,
     "metadata": {},
     "output_type": "execute_result"
    },
    {
     "data": {
      "image/png": "[encoded data removed]",
      "text/plain": [
       "<Figure size 720x576 with 2 Axes>"
      ]
     },
     "metadata": {
      "needs_background": "light"
     },
     "output_type": "display_data"
    }
   ],
   "source": [
    "plt.figure(figsize=(10,8))\n",
    "\n",
    "cols = df.columns[:30]\n",
    "colours = ['#000099', '#ffff00'] # specify colours: yellow - missing. blue - not missing\n",
    "sns.heatmap(df[cols].isna(), cmap=sns.color_palette(colours))"
   ]
  },
  {
   "cell_type": "markdown",
   "id": "cf4bb0d0",
   "metadata": {},
   "source": [
    "Based on the heatmap above, we can learn the pattern of missing data for the first 30 columns. The horizontal axis shows the column names; the vertical axis shows the number of rows; the yellow color represents the missing data while the blue color is otherwise.\n",
    "\n",
    "For example, the column life_sq has missing values across different rows. While the column max_floor has most of its missing values before ~10,000 rows. These patterns can potentially help us understand the reason for data being missing."
   ]
  },
  {
   "cell_type": "code",
   "execution_count": 14,
   "id": "d28e23a3",
   "metadata": {},
   "outputs": [
    {
     "data": {
      "text/plain": [
       "<AxesSubplot:>"
      ]
     },
     "execution_count": 14,
     "metadata": {},
     "output_type": "execute_result"
    },
    {
     "data": {
      "image/png": "[encoded data removed]",
      "text/plain": [
       "<Figure size 1800x720 with 2 Axes>"
      ]
     },
     "metadata": {
      "needs_background": "light"
     },
     "output_type": "display_data"
    }
   ],
   "source": [
    "import missingno as msno\n",
    "msno.matrix(df.iloc[:, :30])\n",
    "\n",
    "\n",
    "#The missingno library is a small toolset focused on missing data visualizations and utilities.\n",
    "#So you can get the same missing data heatmap as above with shorter code."
   ]
  },
  {
   "cell_type": "markdown",
   "id": "cfff72e0",
   "metadata": {},
   "source": [
    "## Method 3: missing data (by rows) histogram"
   ]
  },
  {
   "cell_type": "code",
   "execution_count": 15,
   "id": "37a8dbe4",
   "metadata": {},
   "outputs": [
    {
     "data": {
      "text/plain": [
       "<AxesSubplot:>"
      ]
     },
     "execution_count": 15,
     "metadata": {},
     "output_type": "execute_result"
    },
    {
     "data": {
      "image/png": "[encoded data removed]",
      "text/plain": [
       "<Figure size 432x288 with 1 Axes>"
      ]
     },
     "metadata": {
      "needs_background": "light"
     },
     "output_type": "display_data"
    }
   ],
   "source": [
    "missing_by_row = df.isna().sum(axis='columns')\n",
    "missing_by_row.hist(bins=50)"
   ]
  },
  {
   "cell_type": "markdown",
   "id": "91fad050",
   "metadata": {},
   "source": [
    "This histogram helps to identify the missing patterns among the 30,471 observations. For example, there are over 6,000 observations with no missing values, and close to 4,000 observations with 1 missing value.\n",
    "\n"
   ]
  },
  {
   "cell_type": "markdown",
   "id": "710e1cea",
   "metadata": {},
   "source": [
    "## Alternate plot for histogram of missing data"
   ]
  },
  {
   "cell_type": "markdown",
   "id": "06dd2cc6",
   "metadata": {},
   "source": [
    "**first create missing indicator for features with missing data**\n",
    "\n",
    "\n",
    "for col in df.columns:\n",
    "\n",
    "    missing = df[col].isnull()\n",
    "    \n",
    "    num_missing = np.sum(missing)\n",
    "    \n",
    "    if num_missing > 0:  \n",
    "        print('created missing indicator for: {}'.format(col))\n",
    "        df['{}_ismissing'.format(col)] = missing\n",
    "\n",
    "\n",
    "**then based on the indicator, plot the histogram of missing values**\n",
    "ismissing_cols = [col for col in df.columns if 'ismissing' in col]\n",
    "df['num_missing'] = df[ismissing_cols].sum(axis=1)\n",
    "\n",
    "df['num_missing'].value_counts().reset_index().sort_values(by='index').plot.bar(x='index', y='num_missing')"
   ]
  },
  {
   "cell_type": "markdown",
   "id": "a466c8e7",
   "metadata": {},
   "source": [
    "## What to do with missing data"
   ]
  },
  {
   "cell_type": "markdown",
   "id": "1504db85",
   "metadata": {},
   "source": [
    "**Technique #1: drop columns / features**\n",
    "\n",
    "This technique is straightforward. We drop the entire column or feature with missing data, which will certainly cause a loss of information. So we should only perform this when we are sure that the missing data is not informative. Otherwise, we should consider other solutions.\n",
    "\n",
    "Since we have lots of columns with missing data (51 out of 292), let’s not drop all of them. Let’s consider the columns with a high percentage of missing.\n",
    "\n",
    "Based on the previous code, pct_missing stores the list of columns and their missing data percentages. What are the columns with over 30% missing data?"
   ]
  },
  {
   "cell_type": "code",
   "execution_count": 17,
   "id": "22f2119b",
   "metadata": {},
   "outputs": [
    {
     "data": {
      "text/plain": [
       "max_floor                     0.314135\n",
       "material                      0.314135\n",
       "build_year                    0.446490\n",
       "num_room                      0.314135\n",
       "kitch_sq                      0.314135\n",
       "state                         0.444980\n",
       "hospital_beds_raion           0.473926\n",
       "cafe_sum_500_min_price_avg    0.435857\n",
       "cafe_sum_500_max_price_avg    0.435857\n",
       "cafe_avg_price_500            0.435857\n",
       "dtype: float64"
      ]
     },
     "execution_count": 17,
     "metadata": {},
     "output_type": "execute_result"
    }
   ],
   "source": [
    "pct_missing[pct_missing >.3]"
   ]
  },
  {
   "cell_type": "markdown",
   "id": "021162f3",
   "metadata": {},
   "source": [
    "Assume we investigated the data and consider these columns not very useful. We can leave them out of the analysis. Using the code below, we first filter for the columns with less than or equal to 30% missing, then apply the copy method to make a copy to the new DataFrame df_less_missing_cols. As shown in the comment below, you can also use the drop method to achieve the same.\n",
    "\n"
   ]
  },
  {
   "cell_type": "code",
   "execution_count": 18,
   "id": "a2b7cca4",
   "metadata": {},
   "outputs": [],
   "source": [
    "#df_less_missing_cols = df.loc[:, pct_missing <= .3].copy()\n",
    "# equivalent to \n",
    "\n",
    "df_less_missing_cols=df.drop(columns=pct_missing[pct_missing >= .3].index)\n"
   ]
  },
  {
   "cell_type": "code",
   "execution_count": 19,
   "id": "2a1adae7",
   "metadata": {},
   "outputs": [
    {
     "data": {
      "text/plain": [
       "(30471, 283)"
      ]
     },
     "execution_count": 19,
     "metadata": {},
     "output_type": "execute_result"
    }
   ],
   "source": [
    "df_less_missing_cols.shape\n",
    "\n",
    "#(30471, 292) initial shape output"
   ]
  },
  {
   "cell_type": "markdown",
   "id": "37ee656e",
   "metadata": {},
   "source": [
    "**Technique #2: drop rows / observations**\n",
    "\n",
    "We can drop the entire row with missing data like the first technique. Again, please be aware of the loss of information when removing rows.\n",
    "\n",
    "If we only want to drop the rows with many missing values, we can do it similarly to the previous technique.\n",
    "\n",
    "For example, from the missing data histogram shown earlier, we notice that only a small amount of observations have over 35 columns all missing. We can create a new dataset df_less_missing_rows to only keep observations with less than 35 missing columns."
   ]
  },
  {
   "cell_type": "code",
   "execution_count": 20,
   "id": "5d226924",
   "metadata": {},
   "outputs": [],
   "source": [
    "df_less_missing_rows = df[missing_by_row < 35].copy()\n",
    " "
   ]
  },
  {
   "cell_type": "code",
   "execution_count": 21,
   "id": "73966e2c",
   "metadata": {},
   "outputs": [
    {
     "data": {
      "text/plain": [
       "(29302, 293)"
      ]
     },
     "execution_count": 21,
     "metadata": {},
     "output_type": "execute_result"
    }
   ],
   "source": [
    "df_less_missing_rows.shape \n",
    "\n",
    "# equivalent to df.dropna(axis='index', thresh=292-35+1).shape\n",
    "#This removed 1,169 rows from the original dataset. (30471, 283)"
   ]
  },
  {
   "cell_type": "markdown",
   "id": "83456d4c",
   "metadata": {},
   "source": [
    "**Alternate solution  #2: Drop the Feature\n",
    "Similar to Solution #1, we only do this when we are confident that this feature doesn’t provide useful information.**\n",
    "\n",
    "For example, from the missing data % list, we notice that hospital_beds_raion has a high missing value percentage of 47%. We may drop the entire feature.\n",
    "\n",
    "#hospital_beds_raion has a lot of missing.\n",
    "\n",
    "#If we want to drop.\n",
    "\n",
    "\n",
    "cols_to_drop = ['hospital_beds_raion']\n",
    "\n",
    "\n",
    "df_less_hos_beds_raion = df.drop(cols_to_drop, axis=1)"
   ]
  },
  {
   "cell_type": "markdown",
   "id": "a54ece3a",
   "metadata": {},
   "source": [
    "**Technique #3: impute the missing with constant values\n",
    "Instead of dropping data, we can also replace the missing. An easy method is to impute the missing with constant values.**\n",
    "\n",
    "For example, we can impute the numeric columns with a value of -999 and impute the non-numeric columns with ‘_MISSING_’.\n",
    "\n"
   ]
  },
  {
   "cell_type": "code",
   "execution_count": 22,
   "id": "ed1b2c09",
   "metadata": {},
   "outputs": [],
   "source": [
    "df_copy = df.copy()\n",
    "df_copy[numeric_cols] = df_copy[numeric_cols].fillna(-999)\n",
    "df_copy[non_numeric_cols] = df_copy[non_numeric_cols].fillna('_MISSING_')"
   ]
  },
  {
   "cell_type": "markdown",
   "id": "721ae77f",
   "metadata": {},
   "source": [
    "**Technique #4: impute the missing with statistics**"
   ]
  },
  {
   "cell_type": "code",
   "execution_count": 23,
   "id": "65cbe41c",
   "metadata": {},
   "outputs": [],
   "source": [
    "df_copy = df.copy()\n",
    "med = df_copy[numeric_cols].median()\n",
    "df_copy[numeric_cols] = df_copy[numeric_cols].fillna(med)\n",
    "\n",
    "#we can impute the numeric columns with their respective medians."
   ]
  },
  {
   "cell_type": "code",
   "execution_count": 24,
   "id": "494c0408",
   "metadata": {},
   "outputs": [
    {
     "data": {
      "text/plain": [
       "timestamp                             2014-12-16\n",
       "product_type                          Investment\n",
       "sub_area                     Poselenie Sosenskoe\n",
       "culture_objects_top_25                        no\n",
       "thermal_power_plant_raion                     no\n",
       "incineration_raion                            no\n",
       "oil_chemistry_raion                           no\n",
       "radiation_raion                               no\n",
       "railroad_terminal_raion                       no\n",
       "big_market_raion                              no\n",
       "nuclear_reactor_raion                         no\n",
       "detention_facility_raion                      no\n",
       "water_1line                                   no\n",
       "big_road1_1line                               no\n",
       "railroad_1line                                no\n",
       "ecology                                     poor\n",
       "Name: top, dtype: object"
      ]
     },
     "execution_count": 24,
     "metadata": {},
     "output_type": "execute_result"
    }
   ],
   "source": [
    "most_freq = df_copy[non_numeric_cols].describe().loc['top']\n",
    "most_freq\n",
    "\n",
    "#We can also impute the non-numeric columns with their most frequent values.\n",
    "#The variable most_freq stores the most common values for each non-numeric column.\n",
    "#Then we can use it to fill in the missing.\n",
    "\n"
   ]
  },
  {
   "cell_type": "code",
   "execution_count": 25,
   "id": "7742ec35",
   "metadata": {},
   "outputs": [],
   "source": [
    "df_copy[non_numeric_cols] = df_copy[non_numeric_cols].fillna(most_freq)\n",
    "#As previously shown, the dataset doesn’t have any missing values for the non-numeric columns. \n",
    "#So this step above made no impact on our example dataset."
   ]
  },
  {
   "cell_type": "markdown",
   "id": "970e262f",
   "metadata": {},
   "source": [
    "## Irregular data (outliers)"
   ]
  },
  {
   "cell_type": "markdown",
   "id": "04840352",
   "metadata": {},
   "source": [
    "The definition of outliers is broadly defined for numeric data only. So let’s focus on methods of spotting outliers of numeric columns.\n",
    "\n",
    "**Method #1: descriptive statistics**\n",
    "\n",
    "First, let’s look at kurtosis. Kurtosis is a statistical measure of ‘tailedness’. The higher kurtosis is often linked to the greater extremity of deviations (or outliers) in the data. So this is a single statistic to detect potential outliers."
   ]
  },
  {
   "cell_type": "code",
   "execution_count": 26,
   "id": "0b9623b4",
   "metadata": {},
   "outputs": [
    {
     "data": {
      "text/plain": [
       "id               -1.199940\n",
       "full_sq       12128.727462\n",
       "life_sq       17058.409645\n",
       "floor             1.731182\n",
       "max_floor         6.595262\n",
       "material          1.358512\n",
       "build_year    16865.716093\n",
       "num_room         13.292374\n",
       "kitch_sq       4680.043742\n",
       "state            88.399730\n",
       "dtype: float64"
      ]
     },
     "execution_count": 26,
     "metadata": {},
     "output_type": "execute_result"
    }
   ],
   "source": [
    "df.kurt(numeric_only=True)[:10]\n",
    "\n",
    "#Among the first 10 columns, we can see that life_sq has the highest kurtosis value. But note that the high value of kurtosis doesn’t guarantee outliers. \n",
    "#So we’ll investigate this column more soon."
   ]
  },
  {
   "cell_type": "code",
   "execution_count": 27,
   "id": "1ee4d4ad",
   "metadata": {},
   "outputs": [
    {
     "data": {
      "text/plain": [
       "count    24088.000000\n",
       "mean        34.403271\n",
       "std         52.285733\n",
       "min          0.000000\n",
       "25%         20.000000\n",
       "50%         30.000000\n",
       "75%         43.000000\n",
       "max       7478.000000\n",
       "Name: life_sq, dtype: float64"
      ]
     },
     "execution_count": 27,
     "metadata": {},
     "output_type": "execute_result"
    }
   ],
   "source": [
    "#Besides the kurtosis, we could look at the column’s common descriptive statistics.\n",
    "\n",
    "#For example, we could use the describe method in Python\n",
    "\n",
    "df['life_sq'].describe()"
   ]
  },
  {
   "cell_type": "markdown",
   "id": "d89df3e7",
   "metadata": {},
   "source": [
    "For the column life_sq, we can see that the maximum value is 7,478, while the 75th percentile is only 43. The maximum value is an outlier."
   ]
  },
  {
   "cell_type": "markdown",
   "id": "67eb7a7a",
   "metadata": {},
   "source": [
    "**Method #2: histogram & box plot**\n",
    "\n",
    "\n",
    "Let’s use the data visualization method to detect outliers. We’ll plot a histogram and a box plot of the column life_sq."
   ]
  },
  {
   "cell_type": "code",
   "execution_count": 30,
   "id": "f9ae746d",
   "metadata": {},
   "outputs": [
    {
     "data": {
      "text/plain": [
       "<AxesSubplot:>"
      ]
     },
     "execution_count": 30,
     "metadata": {},
     "output_type": "execute_result"
    },
    {
     "data": {
      "image/png": "[encoded data removed]",
      "text/plain": [
       "<Figure size 432x288 with 1 Axes>"
      ]
     },
     "metadata": {
      "needs_background": "light"
     },
     "output_type": "display_data"
    }
   ],
   "source": [
    "df['life_sq'].hist(bins=100)\n"
   ]
  },
  {
   "cell_type": "code",
   "execution_count": 29,
   "id": "271abd15",
   "metadata": {},
   "outputs": [
    {
     "data": {
      "text/plain": [
       "<AxesSubplot:>"
      ]
     },
     "execution_count": 29,
     "metadata": {},
     "output_type": "execute_result"
    },
    {
     "data": {
      "image/png": "[encoded data removed]",
      "text/plain": [
       "<Figure size 432x288 with 1 Axes>"
      ]
     },
     "metadata": {
      "needs_background": "light"
     },
     "output_type": "display_data"
    }
   ],
   "source": [
    "df.boxplot(column=['life_sq'])"
   ]
  },
  {
   "cell_type": "markdown",
   "id": "c01c3cf9",
   "metadata": {},
   "source": [
    "From the histogram, we can see that the data is highly skewed with the possible existence of outliers. But due to the low frequency, we can’t see the exact location of the outliers and the counts.\n",
    "\n",
    "From the box plot, we get a more clear view of the outliers. There is an outlier with a value of over 7,000. In fact, all the dots on the plot are considered outliers by the box plot definition. You can read details in the documentation of the boxplot method.(Outliers are plotted as separate dots.)"
   ]
  },
  {
   "cell_type": "markdown",
   "id": "fc416738",
   "metadata": {},
   "source": [
    "**Method #3: bar chart**\n",
    "\n",
    "\n",
    "As mentioned, outliers are mainly defined for numeric data. But for non-numeric data, there could be irregular values too. We can use a bar chart to learn about the categories and their distributions.\n",
    "\n",
    "For example, the column ecology has a reasonable distribution. But if there is a category with only one value called ‘extraordinary’, that could be considered an ‘outlier’."
   ]
  },
  {
   "cell_type": "code",
   "execution_count": 31,
   "id": "77ec4403",
   "metadata": {},
   "outputs": [
    {
     "data": {
      "text/plain": [
       "<AxesSubplot:>"
      ]
     },
     "execution_count": 31,
     "metadata": {},
     "output_type": "execute_result"
    },
    {
     "data": {
      "image/png": "[encoded data removed]",
      "text/plain": [
       "<Figure size 432x288 with 1 Axes>"
      ]
     },
     "metadata": {
      "needs_background": "light"
     },
     "output_type": "display_data"
    }
   ],
   "source": [
    "\n",
    "df['ecology'].value_counts().plot(kind='bar')"
   ]
  },
  {
   "cell_type": "markdown",
   "id": "fdf80773",
   "metadata": {},
   "source": [
    "**What to do?**\n",
    "\n",
    "\n",
    "While outliers are not hard to see, it is tricky to clean them. It depends on the dataset and the goal of the project.\n",
    "\n",
    "The methods of handling outliers are somewhat similar to missing data. We could drop, replace, or even just keep them."
   ]
  },
  {
   "cell_type": "markdown",
   "id": "1265caa5",
   "metadata": {},
   "source": [
    "## Unnecessary data\n",
    "\n",
    "\n",
    "Those are a lot of hard work for missing data and outliers! Let’s clean something more straightforward in this section: the unnecessary data.\n",
    "\n",
    "All the data included in the analysis should support the project’s goal. We consider the data to be unnecessary when it doesn’t add value. We’ll cover 3 main types of unnecessary data.\n",
    "\n",
    "**Unnecessary type #1: repetitive & uninformative**\n",
    "\n",
    "\n",
    "One column can have many observations being the same value. When an extremely high percentage of the column has a repetitive value, we should investigate whether such a column provides valuable information.\n",
    "\n",
    "**How to find out?**\n",
    "\n",
    "We can generate a list of columns with a high percentage of the same value. For example, we specify below to show columns with over 99.9% rows being the same value."
   ]
  },
  {
   "cell_type": "code",
   "execution_count": 32,
   "id": "7ddf667f",
   "metadata": {},
   "outputs": [
    {
     "name": "stdout",
     "output_type": "stream",
     "text": [
      "num_missing: 100.00%\n",
      "0.0    30471\n",
      "Name: num_missing, dtype: int64\n",
      "\n"
     ]
    }
   ],
   "source": [
    "num_rows = len(df)\n",
    "\n",
    "for col in df.columns:\n",
    "    cnts = df[col].value_counts(dropna=False)\n",
    "    top_pct = (cnts/num_rows).iloc[0]\n",
    "    \n",
    "    if top_pct > 0.999:\n",
    "        print('{0}: {1:.2f}%'.format(col, top_pct*100))\n",
    "        print(cnts)\n",
    "        print()"
   ]
  },
  {
   "cell_type": "markdown",
   "id": "f6c263ab",
   "metadata": {},
   "source": [
    "In fact, there’s no such column in our example dataset.\n",
    "\n",
    "What to do?\n",
    "If there is one column with a high percentage of the same value, we should look into it to see if it’s informative. We can drop them when they are not, e.g., when the column has 100% being the same value."
   ]
  },
  {
   "cell_type": "code",
   "execution_count": 33,
   "id": "2b7ac5f3",
   "metadata": {},
   "outputs": [
    {
     "name": "stdout",
     "output_type": "stream",
     "text": [
      "oil_chemistry_raion: 99.02858%\n",
      "no     30175\n",
      "yes      296\n",
      "Name: oil_chemistry_raion, dtype: int64\n",
      "\n",
      "railroad_terminal_raion: 96.27187%\n",
      "no     29335\n",
      "yes     1136\n",
      "Name: railroad_terminal_raion, dtype: int64\n",
      "\n",
      "nuclear_reactor_raion: 97.16780%\n",
      "no     29608\n",
      "yes      863\n",
      "Name: nuclear_reactor_raion, dtype: int64\n",
      "\n",
      "big_road1_1line: 97.43691%\n",
      "no     29690\n",
      "yes      781\n",
      "Name: big_road1_1line, dtype: int64\n",
      "\n",
      "railroad_1line: 97.06934%\n",
      "no     29578\n",
      "yes      893\n",
      "Name: railroad_1line, dtype: int64\n",
      "\n",
      "cafe_count_500_price_high: 97.25641%\n",
      "0    29635\n",
      "1      787\n",
      "2       38\n",
      "3       11\n",
      "Name: cafe_count_500_price_high, dtype: int64\n",
      "\n",
      "mosque_count_500: 99.51101%\n",
      "0    30322\n",
      "1      149\n",
      "Name: mosque_count_500, dtype: int64\n",
      "\n",
      "cafe_count_1000_price_high: 95.52689%\n",
      "0    29108\n",
      "1     1104\n",
      "2      145\n",
      "3       51\n",
      "4       39\n",
      "5       15\n",
      "6        8\n",
      "7        1\n",
      "Name: cafe_count_1000_price_high, dtype: int64\n",
      "\n",
      "mosque_count_1000: 98.08342%\n",
      "0    29887\n",
      "1      584\n",
      "Name: mosque_count_1000, dtype: int64\n",
      "\n",
      "mosque_count_1500: 96.21936%\n",
      "0    29319\n",
      "1     1152\n",
      "Name: mosque_count_1500, dtype: int64\n",
      "\n",
      "num_missing: 100.00000%\n",
      "0.0    30471\n",
      "Name: num_missing, dtype: int64\n",
      "\n"
     ]
    }
   ],
   "source": [
    "#95% check\n",
    "\n",
    "num_rows = len(df.index)\n",
    "low_information_cols = [] #\n",
    "\n",
    "for col in df.columns:\n",
    "    cnts = df[col].value_counts(dropna=False)\n",
    "    top_pct = (cnts/num_rows).iloc[0]\n",
    "    \n",
    "    if top_pct > 0.95:\n",
    "        low_information_cols.append(col)\n",
    "        print('{0}: {1:.5f}%'.format(col, top_pct*100))\n",
    "        print(cnts)\n",
    "        print()"
   ]
  },
  {
   "cell_type": "markdown",
   "id": "aa064de5",
   "metadata": {},
   "source": [
    "**Unnecessary type #2: irrelevant**\n",
    "\n",
    "Again, the data needs to provide valuable information for the project. If the features are not related to the question we are trying to solve, they are irrelevant.\n",
    "\n",
    "**How to find out?**\n",
    "\n",
    "We need to skim through the features to identify irrelevant ones. For example, a feature recording the temperature in the US wouldn’t provide direct insights into housing prices in Russia.\n",
    "\n",
    "**What to do?**\n",
    "\n",
    "When the features are not serving the project’s goal, we can remove them. You could use the drop method in pandas."
   ]
  },
  {
   "cell_type": "markdown",
   "id": "9971d5b9",
   "metadata": {},
   "source": [
    "**Unnecessary type #3: duplicates**\n",
    "\n",
    "The duplicate data is when copies of the same observation exist. Let’s look at 2 main types of duplicate data and clean them in Python.\n",
    "\n",
    "**Duplicates type #1: all columns based**\n",
    "\n",
    "**How to find out?**\n",
    "\n",
    "This is easy to understand. Such duplicate occurs when all the columns’ values within the observations are the same.\n",
    "\n",
    "We can use the duplicated method to grab the boolean values of whether a row is duplicated, and then use it to filter for duplicated rows from df."
   ]
  },
  {
   "cell_type": "code",
   "execution_count": 34,
   "id": "f8ab87ec",
   "metadata": {},
   "outputs": [
    {
     "data": {
      "text/html": [
       "<div>\n",
       "<style scoped>\n",
       "    .dataframe tbody tr th:only-of-type {\n",
       "        vertical-align: middle;\n",
       "    }\n",
       "\n",
       "    .dataframe tbody tr th {\n",
       "        vertical-align: top;\n",
       "    }\n",
       "\n",
       "    .dataframe thead th {\n",
       "        text-align: right;\n",
       "    }\n",
       "</style>\n",
       "<table border=\"1\" class=\"dataframe\">\n",
       "  <thead>\n",
       "    <tr style=\"text-align: right;\">\n",
       "      <th></th>\n",
       "      <th>id</th>\n",
       "      <th>timestamp</th>\n",
       "      <th>full_sq</th>\n",
       "      <th>life_sq</th>\n",
       "      <th>floor</th>\n",
       "      <th>max_floor</th>\n",
       "      <th>material</th>\n",
       "      <th>build_year</th>\n",
       "      <th>num_room</th>\n",
       "      <th>kitch_sq</th>\n",
       "      <th>...</th>\n",
       "      <th>cafe_count_5000_price_4000</th>\n",
       "      <th>cafe_count_5000_price_high</th>\n",
       "      <th>big_church_count_5000</th>\n",
       "      <th>church_count_5000</th>\n",
       "      <th>mosque_count_5000</th>\n",
       "      <th>leisure_count_5000</th>\n",
       "      <th>sport_count_5000</th>\n",
       "      <th>market_count_5000</th>\n",
       "      <th>price_doc</th>\n",
       "      <th>num_missing</th>\n",
       "    </tr>\n",
       "  </thead>\n",
       "  <tbody>\n",
       "  </tbody>\n",
       "</table>\n",
       "<p>0 rows × 293 columns</p>\n",
       "</div>"
      ],
      "text/plain": [
       "Empty DataFrame\n",
       "Columns: [id, timestamp, full_sq, life_sq, floor, max_floor, material, build_year, num_room, kitch_sq, state, product_type, sub_area, area_m, raion_popul, green_zone_part, indust_part, children_preschool, preschool_quota, preschool_education_centers_raion, children_school, school_quota, school_education_centers_raion, school_education_centers_top_20_raion, hospital_beds_raion, healthcare_centers_raion, university_top_20_raion, sport_objects_raion, additional_education_raion, culture_objects_top_25, culture_objects_top_25_raion, shopping_centers_raion, office_raion, thermal_power_plant_raion, incineration_raion, oil_chemistry_raion, radiation_raion, railroad_terminal_raion, big_market_raion, nuclear_reactor_raion, detention_facility_raion, full_all, male_f, female_f, young_all, young_male, young_female, work_all, work_male, work_female, ekder_all, ekder_male, ekder_female, 0_6_all, 0_6_male, 0_6_female, 7_14_all, 7_14_male, 7_14_female, 0_17_all, 0_17_male, 0_17_female, 16_29_all, 16_29_male, 16_29_female, 0_13_all, 0_13_male, 0_13_female, raion_build_count_with_material_info, build_count_block, build_count_wood, build_count_frame, build_count_brick, build_count_monolith, build_count_panel, build_count_foam, build_count_slag, build_count_mix, raion_build_count_with_builddate_info, build_count_before_1920, build_count_1921-1945, build_count_1946-1970, build_count_1971-1995, build_count_after_1995, ID_metro, metro_min_avto, metro_km_avto, metro_min_walk, metro_km_walk, kindergarten_km, school_km, park_km, green_zone_km, industrial_km, water_treatment_km, cemetery_km, incineration_km, railroad_station_walk_km, railroad_station_walk_min, ID_railroad_station_walk, ...]\n",
       "Index: []\n",
       "\n",
       "[0 rows x 293 columns]"
      ]
     },
     "execution_count": 34,
     "metadata": {},
     "output_type": "execute_result"
    }
   ],
   "source": [
    "df[df.duplicated()]\n",
    "\n",
    "#There are no two rows that look exactly the same. So this returns 0 rows."
   ]
  },
  {
   "cell_type": "markdown",
   "id": "77a323a8",
   "metadata": {},
   "source": [
    "What to do?\n",
    "If there were any duplicates, we could remove them. We can use the drop_duplicates method. But this will return the same DataFrame since there weren’t any duplicates.\n",
    "\n",
    "df.drop_duplicates()"
   ]
  },
  {
   "cell_type": "markdown",
   "id": "306817da",
   "metadata": {},
   "source": [
    "**Duplicates type #2: key columns based**\n",
    "\n",
    "Instead of looking at all columns, sometimes we want to detect duplicates based on a set of identifiers (columns).\n",
    "\n",
    "**How to find out?**\n",
    "\n",
    "For example, we know that the column id is probably unique. What if we drop it and see if there are duplicates based on the rest of the columns?\n",
    "\n",
    "We first drop id, and then see if there are duplicated rows from the DataFrame."
   ]
  },
  {
   "cell_type": "code",
   "execution_count": 35,
   "id": "bd7c9b2f",
   "metadata": {},
   "outputs": [
    {
     "data": {
      "text/html": [
       "<div>\n",
       "<style scoped>\n",
       "    .dataframe tbody tr th:only-of-type {\n",
       "        vertical-align: middle;\n",
       "    }\n",
       "\n",
       "    .dataframe tbody tr th {\n",
       "        vertical-align: top;\n",
       "    }\n",
       "\n",
       "    .dataframe thead th {\n",
       "        text-align: right;\n",
       "    }\n",
       "</style>\n",
       "<table border=\"1\" class=\"dataframe\">\n",
       "  <thead>\n",
       "    <tr style=\"text-align: right;\">\n",
       "      <th></th>\n",
       "      <th>id</th>\n",
       "      <th>timestamp</th>\n",
       "      <th>full_sq</th>\n",
       "      <th>life_sq</th>\n",
       "      <th>floor</th>\n",
       "      <th>max_floor</th>\n",
       "      <th>material</th>\n",
       "      <th>build_year</th>\n",
       "      <th>num_room</th>\n",
       "      <th>kitch_sq</th>\n",
       "      <th>...</th>\n",
       "      <th>cafe_count_5000_price_4000</th>\n",
       "      <th>cafe_count_5000_price_high</th>\n",
       "      <th>big_church_count_5000</th>\n",
       "      <th>church_count_5000</th>\n",
       "      <th>mosque_count_5000</th>\n",
       "      <th>leisure_count_5000</th>\n",
       "      <th>sport_count_5000</th>\n",
       "      <th>market_count_5000</th>\n",
       "      <th>price_doc</th>\n",
       "      <th>num_missing</th>\n",
       "    </tr>\n",
       "  </thead>\n",
       "  <tbody>\n",
       "    <tr>\n",
       "      <th>3359</th>\n",
       "      <td>3362</td>\n",
       "      <td>2012-08-27</td>\n",
       "      <td>59</td>\n",
       "      <td>NaN</td>\n",
       "      <td>6.0</td>\n",
       "      <td>NaN</td>\n",
       "      <td>NaN</td>\n",
       "      <td>NaN</td>\n",
       "      <td>NaN</td>\n",
       "      <td>NaN</td>\n",
       "      <td>...</td>\n",
       "      <td>2</td>\n",
       "      <td>0</td>\n",
       "      <td>3</td>\n",
       "      <td>15</td>\n",
       "      <td>1</td>\n",
       "      <td>0</td>\n",
       "      <td>24</td>\n",
       "      <td>4</td>\n",
       "      <td>4506800</td>\n",
       "      <td>0.0</td>\n",
       "    </tr>\n",
       "    <tr>\n",
       "      <th>4328</th>\n",
       "      <td>4331</td>\n",
       "      <td>2012-10-22</td>\n",
       "      <td>61</td>\n",
       "      <td>NaN</td>\n",
       "      <td>18.0</td>\n",
       "      <td>NaN</td>\n",
       "      <td>NaN</td>\n",
       "      <td>NaN</td>\n",
       "      <td>NaN</td>\n",
       "      <td>NaN</td>\n",
       "      <td>...</td>\n",
       "      <td>2</td>\n",
       "      <td>1</td>\n",
       "      <td>5</td>\n",
       "      <td>4</td>\n",
       "      <td>0</td>\n",
       "      <td>1</td>\n",
       "      <td>32</td>\n",
       "      <td>5</td>\n",
       "      <td>8248500</td>\n",
       "      <td>0.0</td>\n",
       "    </tr>\n",
       "    <tr>\n",
       "      <th>6991</th>\n",
       "      <td>6994</td>\n",
       "      <td>2013-04-03</td>\n",
       "      <td>42</td>\n",
       "      <td>NaN</td>\n",
       "      <td>2.0</td>\n",
       "      <td>NaN</td>\n",
       "      <td>NaN</td>\n",
       "      <td>NaN</td>\n",
       "      <td>NaN</td>\n",
       "      <td>NaN</td>\n",
       "      <td>...</td>\n",
       "      <td>2</td>\n",
       "      <td>0</td>\n",
       "      <td>2</td>\n",
       "      <td>16</td>\n",
       "      <td>1</td>\n",
       "      <td>0</td>\n",
       "      <td>20</td>\n",
       "      <td>4</td>\n",
       "      <td>3444000</td>\n",
       "      <td>0.0</td>\n",
       "    </tr>\n",
       "    <tr>\n",
       "      <th>8059</th>\n",
       "      <td>8062</td>\n",
       "      <td>2013-05-22</td>\n",
       "      <td>68</td>\n",
       "      <td>NaN</td>\n",
       "      <td>2.0</td>\n",
       "      <td>NaN</td>\n",
       "      <td>NaN</td>\n",
       "      <td>NaN</td>\n",
       "      <td>NaN</td>\n",
       "      <td>NaN</td>\n",
       "      <td>...</td>\n",
       "      <td>2</td>\n",
       "      <td>0</td>\n",
       "      <td>2</td>\n",
       "      <td>16</td>\n",
       "      <td>1</td>\n",
       "      <td>0</td>\n",
       "      <td>20</td>\n",
       "      <td>4</td>\n",
       "      <td>5406690</td>\n",
       "      <td>0.0</td>\n",
       "    </tr>\n",
       "    <tr>\n",
       "      <th>8653</th>\n",
       "      <td>8656</td>\n",
       "      <td>2013-06-24</td>\n",
       "      <td>40</td>\n",
       "      <td>NaN</td>\n",
       "      <td>12.0</td>\n",
       "      <td>NaN</td>\n",
       "      <td>NaN</td>\n",
       "      <td>NaN</td>\n",
       "      <td>NaN</td>\n",
       "      <td>NaN</td>\n",
       "      <td>...</td>\n",
       "      <td>0</td>\n",
       "      <td>0</td>\n",
       "      <td>4</td>\n",
       "      <td>6</td>\n",
       "      <td>0</td>\n",
       "      <td>0</td>\n",
       "      <td>4</td>\n",
       "      <td>1</td>\n",
       "      <td>4112800</td>\n",
       "      <td>0.0</td>\n",
       "    </tr>\n",
       "    <tr>\n",
       "      <th>14004</th>\n",
       "      <td>14007</td>\n",
       "      <td>2014-01-22</td>\n",
       "      <td>46</td>\n",
       "      <td>28.0</td>\n",
       "      <td>1.0</td>\n",
       "      <td>9.0</td>\n",
       "      <td>1.0</td>\n",
       "      <td>1968.0</td>\n",
       "      <td>2.0</td>\n",
       "      <td>5.0</td>\n",
       "      <td>...</td>\n",
       "      <td>1</td>\n",
       "      <td>0</td>\n",
       "      <td>13</td>\n",
       "      <td>15</td>\n",
       "      <td>1</td>\n",
       "      <td>1</td>\n",
       "      <td>61</td>\n",
       "      <td>4</td>\n",
       "      <td>3000000</td>\n",
       "      <td>0.0</td>\n",
       "    </tr>\n",
       "    <tr>\n",
       "      <th>17404</th>\n",
       "      <td>17407</td>\n",
       "      <td>2014-04-15</td>\n",
       "      <td>134</td>\n",
       "      <td>134.0</td>\n",
       "      <td>1.0</td>\n",
       "      <td>1.0</td>\n",
       "      <td>1.0</td>\n",
       "      <td>0.0</td>\n",
       "      <td>3.0</td>\n",
       "      <td>0.0</td>\n",
       "      <td>...</td>\n",
       "      <td>0</td>\n",
       "      <td>0</td>\n",
       "      <td>0</td>\n",
       "      <td>1</td>\n",
       "      <td>0</td>\n",
       "      <td>0</td>\n",
       "      <td>0</td>\n",
       "      <td>0</td>\n",
       "      <td>5798496</td>\n",
       "      <td>0.0</td>\n",
       "    </tr>\n",
       "    <tr>\n",
       "      <th>26675</th>\n",
       "      <td>26678</td>\n",
       "      <td>2014-12-17</td>\n",
       "      <td>62</td>\n",
       "      <td>NaN</td>\n",
       "      <td>9.0</td>\n",
       "      <td>17.0</td>\n",
       "      <td>1.0</td>\n",
       "      <td>NaN</td>\n",
       "      <td>2.0</td>\n",
       "      <td>1.0</td>\n",
       "      <td>...</td>\n",
       "      <td>141</td>\n",
       "      <td>26</td>\n",
       "      <td>150</td>\n",
       "      <td>249</td>\n",
       "      <td>2</td>\n",
       "      <td>105</td>\n",
       "      <td>203</td>\n",
       "      <td>13</td>\n",
       "      <td>6552000</td>\n",
       "      <td>0.0</td>\n",
       "    </tr>\n",
       "    <tr>\n",
       "      <th>28361</th>\n",
       "      <td>28364</td>\n",
       "      <td>2015-03-14</td>\n",
       "      <td>62</td>\n",
       "      <td>NaN</td>\n",
       "      <td>2.0</td>\n",
       "      <td>17.0</td>\n",
       "      <td>1.0</td>\n",
       "      <td>NaN</td>\n",
       "      <td>2.0</td>\n",
       "      <td>1.0</td>\n",
       "      <td>...</td>\n",
       "      <td>141</td>\n",
       "      <td>26</td>\n",
       "      <td>150</td>\n",
       "      <td>249</td>\n",
       "      <td>2</td>\n",
       "      <td>105</td>\n",
       "      <td>203</td>\n",
       "      <td>13</td>\n",
       "      <td>6520500</td>\n",
       "      <td>0.0</td>\n",
       "    </tr>\n",
       "    <tr>\n",
       "      <th>28712</th>\n",
       "      <td>28715</td>\n",
       "      <td>2015-03-30</td>\n",
       "      <td>41</td>\n",
       "      <td>41.0</td>\n",
       "      <td>11.0</td>\n",
       "      <td>17.0</td>\n",
       "      <td>1.0</td>\n",
       "      <td>2016.0</td>\n",
       "      <td>1.0</td>\n",
       "      <td>41.0</td>\n",
       "      <td>...</td>\n",
       "      <td>2</td>\n",
       "      <td>0</td>\n",
       "      <td>2</td>\n",
       "      <td>9</td>\n",
       "      <td>0</td>\n",
       "      <td>0</td>\n",
       "      <td>7</td>\n",
       "      <td>2</td>\n",
       "      <td>4114580</td>\n",
       "      <td>0.0</td>\n",
       "    </tr>\n",
       "  </tbody>\n",
       "</table>\n",
       "<p>10 rows × 293 columns</p>\n",
       "</div>"
      ],
      "text/plain": [
       "          id   timestamp  full_sq  life_sq  floor  max_floor  material  \\\n",
       "3359    3362  2012-08-27       59      NaN    6.0        NaN       NaN   \n",
       "4328    4331  2012-10-22       61      NaN   18.0        NaN       NaN   \n",
       "6991    6994  2013-04-03       42      NaN    2.0        NaN       NaN   \n",
       "8059    8062  2013-05-22       68      NaN    2.0        NaN       NaN   \n",
       "8653    8656  2013-06-24       40      NaN   12.0        NaN       NaN   \n",
       "14004  14007  2014-01-22       46     28.0    1.0        9.0       1.0   \n",
       "17404  17407  2014-04-15      134    134.0    1.0        1.0       1.0   \n",
       "26675  26678  2014-12-17       62      NaN    9.0       17.0       1.0   \n",
       "28361  28364  2015-03-14       62      NaN    2.0       17.0       1.0   \n",
       "28712  28715  2015-03-30       41     41.0   11.0       17.0       1.0   \n",
       "\n",
       "       build_year  num_room  kitch_sq  ...  cafe_count_5000_price_4000  \\\n",
       "3359          NaN       NaN       NaN  ...                           2   \n",
       "4328          NaN       NaN       NaN  ...                           2   \n",
       "6991          NaN       NaN       NaN  ...                           2   \n",
       "8059          NaN       NaN       NaN  ...                           2   \n",
       "8653          NaN       NaN       NaN  ...                           0   \n",
       "14004      1968.0       2.0       5.0  ...                           1   \n",
       "17404         0.0       3.0       0.0  ...                           0   \n",
       "26675         NaN       2.0       1.0  ...                         141   \n",
       "28361         NaN       2.0       1.0  ...                         141   \n",
       "28712      2016.0       1.0      41.0  ...                           2   \n",
       "\n",
       "      cafe_count_5000_price_high big_church_count_5000  church_count_5000  \\\n",
       "3359                           0                     3                 15   \n",
       "4328                           1                     5                  4   \n",
       "6991                           0                     2                 16   \n",
       "8059                           0                     2                 16   \n",
       "8653                           0                     4                  6   \n",
       "14004                          0                    13                 15   \n",
       "17404                          0                     0                  1   \n",
       "26675                         26                   150                249   \n",
       "28361                         26                   150                249   \n",
       "28712                          0                     2                  9   \n",
       "\n",
       "       mosque_count_5000  leisure_count_5000  sport_count_5000  \\\n",
       "3359                   1                   0                24   \n",
       "4328                   0                   1                32   \n",
       "6991                   1                   0                20   \n",
       "8059                   1                   0                20   \n",
       "8653                   0                   0                 4   \n",
       "14004                  1                   1                61   \n",
       "17404                  0                   0                 0   \n",
       "26675                  2                 105               203   \n",
       "28361                  2                 105               203   \n",
       "28712                  0                   0                 7   \n",
       "\n",
       "       market_count_5000  price_doc  num_missing  \n",
       "3359                   4    4506800          0.0  \n",
       "4328                   5    8248500          0.0  \n",
       "6991                   4    3444000          0.0  \n",
       "8059                   4    5406690          0.0  \n",
       "8653                   1    4112800          0.0  \n",
       "14004                  4    3000000          0.0  \n",
       "17404                  0    5798496          0.0  \n",
       "26675                 13    6552000          0.0  \n",
       "28361                 13    6520500          0.0  \n",
       "28712                  2    4114580          0.0  \n",
       "\n",
       "[10 rows x 293 columns]"
      ]
     },
     "execution_count": 35,
     "metadata": {},
     "output_type": "execute_result"
    }
   ],
   "source": [
    "df[df.drop(columns=['id']).duplicated()]"
   ]
  },
  {
   "cell_type": "markdown",
   "id": "a0720a33",
   "metadata": {},
   "source": [
    "There are 10 rows shown up to be duplicated.\n",
    "\n",
    "**What to do?**\n",
    "\n",
    "We could remove them and save the new dataset as df_dedupped. We can also compare the shapes of the two datasets (df and df_dedupped)."
   ]
  },
  {
   "cell_type": "code",
   "execution_count": 36,
   "id": "393fc8f8",
   "metadata": {},
   "outputs": [
    {
     "name": "stdout",
     "output_type": "stream",
     "text": [
      "(30471, 293)\n",
      "(30461, 292)\n"
     ]
    }
   ],
   "source": [
    "df_dedupped = df.drop(columns=['id']).drop_duplicates()\n",
    "\n",
    "print(df.shape)\n",
    "print(df_dedupped.shape)\n",
    "\n",
    "#There were 10 rows removed as duplicates."
   ]
  },
  {
   "cell_type": "markdown",
   "id": "79a8c7bf",
   "metadata": {},
   "source": [
    "**Let’s see another example.**\n",
    "\n",
    "How to find out?\n",
    "\n",
    "For house sales, let’s assume that if two transactions have the same timestamp, full_sq, life_sq, floor, build_year, num_room, price_doc, they are duplicates. Let’s look at duplicates based on this set of columns. We can use the below code to show the duplicated rows based on those columns."
   ]
  },
  {
   "cell_type": "code",
   "execution_count": 37,
   "id": "f7eca799",
   "metadata": {},
   "outputs": [
    {
     "data": {
      "text/plain": [
       "timestamp   full_sq  life_sq  floor  build_year  num_room  price_doc\n",
       "2012-08-27  59       -999.0   6.0    -999.0      -999.0    4506800      2\n",
       "2012-09-05  43       -999.0   21.0   -999.0      -999.0    6229540      2\n",
       "2012-10-22  61       -999.0   18.0   -999.0      -999.0    8248500      2\n",
       "2013-04-03  42       -999.0   2.0    -999.0      -999.0    3444000      2\n",
       "2013-05-22  68       -999.0   2.0    -999.0      -999.0    5406690      2\n",
       "2013-06-24  40       -999.0   12.0   -999.0      -999.0    4112800      2\n",
       "2013-08-30  40       -999.0   12.0   -999.0       1.0      4462000      2\n",
       "2013-09-23  85       -999.0   14.0   -999.0       3.0      7725974      2\n",
       "2013-12-05  40       -999.0   5.0    -999.0       1.0      4414080      2\n",
       "2013-12-18  39       -999.0   6.0    -999.0       1.0      3700946      2\n",
       "2014-01-22  46        28.0    1.0     1968.0      2.0      3000000      2\n",
       "2014-04-15  134       134.0   1.0     0.0         3.0      5798496      2\n",
       "2014-12-09  40       -999.0   17.0   -999.0       1.0      4607265      2\n",
       "2014-12-17  62       -999.0   9.0    -999.0       2.0      6552000      2\n",
       "2015-03-14  62       -999.0   2.0    -999.0       2.0      6520500      2\n",
       "2015-03-30  41        41.0    11.0    2016.0      1.0      4114580      2\n",
       "Name: id, dtype: int64"
      ]
     },
     "execution_count": 37,
     "metadata": {},
     "output_type": "execute_result"
    }
   ],
   "source": [
    "key = ['timestamp', 'full_sq', 'life_sq', 'floor', 'build_year', 'num_room', 'price_doc']\n",
    "\n",
    "df_grouped = df.fillna(-999).groupby(key)['id'].count()\n",
    "\n",
    "df_grouped[df_grouped > 1]"
   ]
  },
  {
   "cell_type": "markdown",
   "id": "0799f2ee",
   "metadata": {},
   "source": [
    "There are 16 rows returned as duplicates.\n",
    "\n",
    "What to do?\n",
    "We can drop these duplicates based on the subset of key columns."
   ]
  },
  {
   "cell_type": "code",
   "execution_count": 38,
   "id": "6cf2215e",
   "metadata": {},
   "outputs": [
    {
     "name": "stdout",
     "output_type": "stream",
     "text": [
      "(30471, 293)\n",
      "(30455, 293)\n"
     ]
    }
   ],
   "source": [
    "key = ['timestamp', 'full_sq', 'life_sq', 'floor', 'build_year', 'num_room', 'price_doc']\n",
    "df_dedupped2 = df.drop_duplicates(subset=key)\n",
    "\n",
    "print(df.shape)\n",
    "print(df_dedupped2.shape)"
   ]
  },
  {
   "cell_type": "markdown",
   "id": "a001f949",
   "metadata": {},
   "source": [
    "## Inconsistent data\n",
    "\n",
    "It is crucial to have the dataset follow specific standards. There could be different inconsistent data that needs to be cleaned and we’ll cover 4 common ones. Please note that the actual data may be even messier, be creative when cleaning it!\n",
    "\n",
    "**Inconsistent type #1: capitalization**\n",
    "\n",
    "Inconsistent use of upper and lower cases in categorical values is typical. We need to clean it since Python is case-sensitive.\n",
    "\n",
    "How to find out?\n",
    "Let’s look at sub_area, which stores the name of different areas."
   ]
  },
  {
   "cell_type": "code",
   "execution_count": 39,
   "id": "92eed775",
   "metadata": {},
   "outputs": [
    {
     "data": {
      "text/plain": [
       "Poselenie Sosenskoe               1776\n",
       "Nekrasovka                        1611\n",
       "Poselenie Vnukovskoe              1372\n",
       "Poselenie Moskovskij               925\n",
       "Poselenie Voskresenskoe            713\n",
       "                                  ... \n",
       "Molzhaninovskoe                      3\n",
       "Poselenie Kievskij                   2\n",
       "Poselenie Shhapovskoe                2\n",
       "Poselenie Mihajlovo-Jarcevskoe       1\n",
       "Poselenie Klenovskoe                 1\n",
       "Name: sub_area, Length: 146, dtype: int64"
      ]
     },
     "execution_count": 39,
     "metadata": {},
     "output_type": "execute_result"
    }
   ],
   "source": [
    "df['sub_area'].value_counts(dropna=False)"
   ]
  },
  {
   "cell_type": "markdown",
   "id": "fc77adbb",
   "metadata": {},
   "source": [
    "We are lucky that the text in this column looks standardized. But there could be inconsistent capitalizations. For instance, ‘Poselenie Sosenskoe’ and ‘pOseleNie sosenskeo’ could refer to the same district.\n",
    "\n",
    "What to do?\n",
    "To avoid this, we can lowercase (or uppercase) all letters."
   ]
  },
  {
   "cell_type": "code",
   "execution_count": 40,
   "id": "f626d3ac",
   "metadata": {},
   "outputs": [
    {
     "data": {
      "text/plain": [
       "poselenie sosenskoe               1776\n",
       "nekrasovka                        1611\n",
       "poselenie vnukovskoe              1372\n",
       "poselenie moskovskij               925\n",
       "poselenie voskresenskoe            713\n",
       "                                  ... \n",
       "molzhaninovskoe                      3\n",
       "poselenie kievskij                   2\n",
       "poselenie shhapovskoe                2\n",
       "poselenie mihajlovo-jarcevskoe       1\n",
       "poselenie klenovskoe                 1\n",
       "Name: sub_area_lower, Length: 146, dtype: int64"
      ]
     },
     "execution_count": 40,
     "metadata": {},
     "output_type": "execute_result"
    }
   ],
   "source": [
    "df['sub_area_lower'] = df['sub_area'].str.lower()\n",
    "df['sub_area_lower'].value_counts(dropna=False)"
   ]
  },
  {
   "cell_type": "markdown",
   "id": "78aa2df2",
   "metadata": {},
   "source": [
    "**Inconsistent type #2: data types**\n",
    "\n",
    "\n",
    "Another standardization we often need to look at is the data types.\n",
    "\n",
    "Let’s see an example.\n",
    "\n",
    "**How to find out?**\n",
    "\n",
    "If you recall, earlier, we’ve used the info method to print out the summary of the DataFrame. We could see the data types of each column. We could also print out one column to take a look. Let’s try timestamp."
   ]
  },
  {
   "cell_type": "code",
   "execution_count": 41,
   "id": "30932d26",
   "metadata": {},
   "outputs": [
    {
     "data": {
      "text/plain": [
       "0        2011-08-20\n",
       "1        2011-08-23\n",
       "2        2011-08-27\n",
       "3        2011-09-01\n",
       "4        2011-09-05\n",
       "            ...    \n",
       "30466    2015-06-30\n",
       "30467    2015-06-30\n",
       "30468    2015-06-30\n",
       "30469    2015-06-30\n",
       "30470    2015-06-30\n",
       "Name: timestamp, Length: 30471, dtype: object"
      ]
     },
     "execution_count": 41,
     "metadata": {},
     "output_type": "execute_result"
    }
   ],
   "source": [
    "df['timestamp']"
   ]
  },
  {
   "cell_type": "markdown",
   "id": "249aea09",
   "metadata": {},
   "source": [
    "df\n",
    "\n",
    "Formats\n",
    "Another standardization we need to perform is the data formats. One example is to convert the feature from string to DateTime format.\n",
    "\n",
    "How to find out?\n",
    "\n",
    "The feature timestamp is in string format while it represents dates. What to do?\n",
    "We can convert the column to a DateTime format and even extract the specific year, month, weekday, etc."
   ]
  },
  {
   "cell_type": "code",
   "execution_count": 43,
   "id": "9079c830",
   "metadata": {},
   "outputs": [
    {
     "data": {
      "text/html": [
       "<div>\n",
       "<style scoped>\n",
       "    .dataframe tbody tr th:only-of-type {\n",
       "        vertical-align: middle;\n",
       "    }\n",
       "\n",
       "    .dataframe tbody tr th {\n",
       "        vertical-align: top;\n",
       "    }\n",
       "\n",
       "    .dataframe thead th {\n",
       "        text-align: right;\n",
       "    }\n",
       "</style>\n",
       "<table border=\"1\" class=\"dataframe\">\n",
       "  <thead>\n",
       "    <tr style=\"text-align: right;\">\n",
       "      <th></th>\n",
       "      <th>timestamp_dt</th>\n",
       "      <th>year</th>\n",
       "      <th>month</th>\n",
       "      <th>weekday</th>\n",
       "    </tr>\n",
       "  </thead>\n",
       "  <tbody>\n",
       "    <tr>\n",
       "      <th>0</th>\n",
       "      <td>2011-08-20</td>\n",
       "      <td>2011</td>\n",
       "      <td>8</td>\n",
       "      <td>5</td>\n",
       "    </tr>\n",
       "    <tr>\n",
       "      <th>1</th>\n",
       "      <td>2011-08-23</td>\n",
       "      <td>2011</td>\n",
       "      <td>8</td>\n",
       "      <td>1</td>\n",
       "    </tr>\n",
       "    <tr>\n",
       "      <th>2</th>\n",
       "      <td>2011-08-27</td>\n",
       "      <td>2011</td>\n",
       "      <td>8</td>\n",
       "      <td>5</td>\n",
       "    </tr>\n",
       "    <tr>\n",
       "      <th>3</th>\n",
       "      <td>2011-09-01</td>\n",
       "      <td>2011</td>\n",
       "      <td>9</td>\n",
       "      <td>3</td>\n",
       "    </tr>\n",
       "    <tr>\n",
       "      <th>4</th>\n",
       "      <td>2011-09-05</td>\n",
       "      <td>2011</td>\n",
       "      <td>9</td>\n",
       "      <td>0</td>\n",
       "    </tr>\n",
       "  </tbody>\n",
       "</table>\n",
       "</div>"
      ],
      "text/plain": [
       "  timestamp_dt  year  month  weekday\n",
       "0   2011-08-20  2011      8        5\n",
       "1   2011-08-23  2011      8        1\n",
       "2   2011-08-27  2011      8        5\n",
       "3   2011-09-01  2011      9        3\n",
       "4   2011-09-05  2011      9        0"
      ]
     },
     "execution_count": 43,
     "metadata": {},
     "output_type": "execute_result"
    }
   ],
   "source": [
    "df['timestamp_dt'] = pd.to_datetime(df['timestamp'], format='%Y-%m-%d')\n",
    "df['year'] = df['timestamp_dt'].dt.year\n",
    "df['month'] = df['timestamp_dt'].dt.month\n",
    "df['weekday'] = df['timestamp_dt'].dt.weekday\n",
    "\n",
    "df[['timestamp_dt', 'year', 'month', 'weekday']].head()"
   ]
  },
  {
   "cell_type": "markdown",
   "id": "0616fa35",
   "metadata": {},
   "source": [
    "**Inconsistent type #3: typos of categorical values**\n",
    "\n",
    "A categorical column takes on a limited and usually fixed number of possible values. Sometimes it shows other values due to reasons like typos.\n",
    "\n",
    "How to find out?\n",
    "Let’s see an example. Within the code below:\n",
    "\n",
    "**We generate a new DataFrame, df_city_ex**\n",
    "\n",
    "There is only one column that stores the city names. There are misspellings. For example, ‘torontoo’ and ‘tronto’ both refer to the city of ‘toronto’.\n",
    "The variable cities stores the 4 correct names of ‘toronto’, ‘vancouver’, ‘montreal’, and ‘calgary’.\n",
    "To identify typos, we use fuzzy logic matches. We use edit_distance from nltk, which measures the number of operations (e.g., substitution, insertion, deletion) needed to change from one string into another string.\n",
    "\n",
    "We calculate the distance between the actual values and the correct values."
   ]
  },
  {
   "cell_type": "code",
   "execution_count": 47,
   "id": "0f8482fe",
   "metadata": {},
   "outputs": [
    {
     "data": {
      "text/html": [
       "<div>\n",
       "<style scoped>\n",
       "    .dataframe tbody tr th:only-of-type {\n",
       "        vertical-align: middle;\n",
       "    }\n",
       "\n",
       "    .dataframe tbody tr th {\n",
       "        vertical-align: top;\n",
       "    }\n",
       "\n",
       "    .dataframe thead th {\n",
       "        text-align: right;\n",
       "    }\n",
       "</style>\n",
       "<table border=\"1\" class=\"dataframe\">\n",
       "  <thead>\n",
       "    <tr style=\"text-align: right;\">\n",
       "      <th></th>\n",
       "      <th>city</th>\n",
       "      <th>city_distance_toronto</th>\n",
       "      <th>city_distance_vancouver</th>\n",
       "      <th>city_distance_montreal</th>\n",
       "      <th>city_distance_calgary</th>\n",
       "    </tr>\n",
       "  </thead>\n",
       "  <tbody>\n",
       "    <tr>\n",
       "      <th>0</th>\n",
       "      <td>torontoo</td>\n",
       "      <td>1</td>\n",
       "      <td>8</td>\n",
       "      <td>7</td>\n",
       "      <td>8</td>\n",
       "    </tr>\n",
       "    <tr>\n",
       "      <th>1</th>\n",
       "      <td>toronto</td>\n",
       "      <td>0</td>\n",
       "      <td>8</td>\n",
       "      <td>7</td>\n",
       "      <td>7</td>\n",
       "    </tr>\n",
       "    <tr>\n",
       "      <th>2</th>\n",
       "      <td>tronto</td>\n",
       "      <td>1</td>\n",
       "      <td>8</td>\n",
       "      <td>6</td>\n",
       "      <td>7</td>\n",
       "    </tr>\n",
       "    <tr>\n",
       "      <th>3</th>\n",
       "      <td>vancouver</td>\n",
       "      <td>8</td>\n",
       "      <td>0</td>\n",
       "      <td>8</td>\n",
       "      <td>8</td>\n",
       "    </tr>\n",
       "    <tr>\n",
       "      <th>4</th>\n",
       "      <td>vancover</td>\n",
       "      <td>7</td>\n",
       "      <td>1</td>\n",
       "      <td>7</td>\n",
       "      <td>7</td>\n",
       "    </tr>\n",
       "    <tr>\n",
       "      <th>5</th>\n",
       "      <td>vancouvr</td>\n",
       "      <td>7</td>\n",
       "      <td>1</td>\n",
       "      <td>7</td>\n",
       "      <td>7</td>\n",
       "    </tr>\n",
       "    <tr>\n",
       "      <th>6</th>\n",
       "      <td>montreal</td>\n",
       "      <td>7</td>\n",
       "      <td>8</td>\n",
       "      <td>0</td>\n",
       "      <td>8</td>\n",
       "    </tr>\n",
       "    <tr>\n",
       "      <th>7</th>\n",
       "      <td>calgary</td>\n",
       "      <td>7</td>\n",
       "      <td>8</td>\n",
       "      <td>8</td>\n",
       "      <td>0</td>\n",
       "    </tr>\n",
       "  </tbody>\n",
       "</table>\n",
       "</div>"
      ],
      "text/plain": [
       "        city  city_distance_toronto  city_distance_vancouver  \\\n",
       "0   torontoo                      1                        8   \n",
       "1    toronto                      0                        8   \n",
       "2     tronto                      1                        8   \n",
       "3  vancouver                      8                        0   \n",
       "4   vancover                      7                        1   \n",
       "5   vancouvr                      7                        1   \n",
       "6   montreal                      7                        8   \n",
       "7    calgary                      7                        8   \n",
       "\n",
       "   city_distance_montreal  city_distance_calgary  \n",
       "0                       7                      8  \n",
       "1                       7                      7  \n",
       "2                       6                      7  \n",
       "3                       8                      8  \n",
       "4                       7                      7  \n",
       "5                       7                      7  \n",
       "6                       0                      8  \n",
       "7                       8                      0  "
      ]
     },
     "execution_count": 47,
     "metadata": {},
     "output_type": "execute_result"
    }
   ],
   "source": [
    "df_city_ex = pd.DataFrame(data={'city': ['torontoo', 'toronto', 'tronto', 'vancouver', 'vancover', 'vancouvr', 'montreal', 'calgary']})\n",
    "\n",
    "cities = ['toronto', 'vancouver', 'montreal', 'calgary']\n",
    "from nltk.metrics import edit_distance\n",
    "for city in cities:\n",
    "    df_city_ex[f'city_distance_{city}'] = df_city_ex['city'].map(lambda x: edit_distance(x, city))\n",
    "\n",
    "df_city_ex"
   ]
  },
  {
   "cell_type": "markdown",
   "id": "96b6c384",
   "metadata": {},
   "source": [
    "**What to do?**\n",
    "\n",
    "We can set criteria to convert these typos to the correct values. For example, the below code sets all the values within 2 characters distance from ‘toronto’/’vancouver’ to be ‘toronto’/’vancouver’.\n",
    "\n",
    "The typos have a smaller ‘distance’ from the correct value. Because they only differ by a couple of letters.\n",
    "\n",
    "    What to do?\n",
    "\n",
    "We can set criteria to convert these typos to the correct values. For example, the below code sets all the values within 2 letters distance from “toronto” to be “toronto”.\n",
    "\n"
   ]
  },
  {
   "cell_type": "code",
   "execution_count": 48,
   "id": "837a8912",
   "metadata": {},
   "outputs": [
    {
     "data": {
      "text/html": [
       "<div>\n",
       "<style scoped>\n",
       "    .dataframe tbody tr th:only-of-type {\n",
       "        vertical-align: middle;\n",
       "    }\n",
       "\n",
       "    .dataframe tbody tr th {\n",
       "        vertical-align: top;\n",
       "    }\n",
       "\n",
       "    .dataframe thead th {\n",
       "        text-align: right;\n",
       "    }\n",
       "</style>\n",
       "<table border=\"1\" class=\"dataframe\">\n",
       "  <thead>\n",
       "    <tr style=\"text-align: right;\">\n",
       "      <th></th>\n",
       "      <th>city</th>\n",
       "      <th>city_distance_toronto</th>\n",
       "      <th>city_distance_vancouver</th>\n",
       "      <th>city_distance_montreal</th>\n",
       "      <th>city_distance_calgary</th>\n",
       "    </tr>\n",
       "  </thead>\n",
       "  <tbody>\n",
       "    <tr>\n",
       "      <th>0</th>\n",
       "      <td>toronto</td>\n",
       "      <td>1</td>\n",
       "      <td>8</td>\n",
       "      <td>7</td>\n",
       "      <td>8</td>\n",
       "    </tr>\n",
       "    <tr>\n",
       "      <th>1</th>\n",
       "      <td>toronto</td>\n",
       "      <td>0</td>\n",
       "      <td>8</td>\n",
       "      <td>7</td>\n",
       "      <td>7</td>\n",
       "    </tr>\n",
       "    <tr>\n",
       "      <th>2</th>\n",
       "      <td>toronto</td>\n",
       "      <td>1</td>\n",
       "      <td>8</td>\n",
       "      <td>6</td>\n",
       "      <td>7</td>\n",
       "    </tr>\n",
       "    <tr>\n",
       "      <th>3</th>\n",
       "      <td>vancouver</td>\n",
       "      <td>8</td>\n",
       "      <td>0</td>\n",
       "      <td>8</td>\n",
       "      <td>8</td>\n",
       "    </tr>\n",
       "    <tr>\n",
       "      <th>4</th>\n",
       "      <td>vancouver</td>\n",
       "      <td>7</td>\n",
       "      <td>1</td>\n",
       "      <td>7</td>\n",
       "      <td>7</td>\n",
       "    </tr>\n",
       "    <tr>\n",
       "      <th>5</th>\n",
       "      <td>vancouver</td>\n",
       "      <td>7</td>\n",
       "      <td>1</td>\n",
       "      <td>7</td>\n",
       "      <td>7</td>\n",
       "    </tr>\n",
       "    <tr>\n",
       "      <th>6</th>\n",
       "      <td>montreal</td>\n",
       "      <td>7</td>\n",
       "      <td>8</td>\n",
       "      <td>0</td>\n",
       "      <td>8</td>\n",
       "    </tr>\n",
       "    <tr>\n",
       "      <th>7</th>\n",
       "      <td>calgary</td>\n",
       "      <td>7</td>\n",
       "      <td>8</td>\n",
       "      <td>8</td>\n",
       "      <td>0</td>\n",
       "    </tr>\n",
       "  </tbody>\n",
       "</table>\n",
       "</div>"
      ],
      "text/plain": [
       "        city  city_distance_toronto  city_distance_vancouver  \\\n",
       "0    toronto                      1                        8   \n",
       "1    toronto                      0                        8   \n",
       "2    toronto                      1                        8   \n",
       "3  vancouver                      8                        0   \n",
       "4  vancouver                      7                        1   \n",
       "5  vancouver                      7                        1   \n",
       "6   montreal                      7                        8   \n",
       "7    calgary                      7                        8   \n",
       "\n",
       "   city_distance_montreal  city_distance_calgary  \n",
       "0                       7                      8  \n",
       "1                       7                      7  \n",
       "2                       6                      7  \n",
       "3                       8                      8  \n",
       "4                       7                      7  \n",
       "5                       7                      7  \n",
       "6                       0                      8  \n",
       "7                       8                      0  "
      ]
     },
     "execution_count": 48,
     "metadata": {},
     "output_type": "execute_result"
    }
   ],
   "source": [
    "msk = df_city_ex['city_distance_toronto'] <= 2\n",
    "df_city_ex.loc[msk, 'city'] = 'toronto'\n",
    "\n",
    "msk = df_city_ex['city_distance_vancouver'] <= 2\n",
    "df_city_ex.loc[msk, 'city'] = 'vancouver'\n",
    "\n",
    "df_city_ex"
   ]
  },
  {
   "cell_type": "markdown",
   "id": "16988174",
   "metadata": {},
   "source": [
    "**Inconsistent type #4: addresses**\n",
    "\n",
    "This is the last data cleaning in Python problem we’ll cover. If you’ve worked with addresses, you know how messy they can be. Just imagine how people can write addresses in all different ways!\n",
    "\n",
    "**How to find out?**\n",
    "\n",
    "We can find messy address data by looking at it. Even though sometimes we can’t spot any problems, we can still run code to standardize them in case there are hidden issues.\n",
    "\n",
    "There is no address column in our housing dataset due to privacy. Let’s create a new dataset df_add_ex with a column address."
   ]
  },
  {
   "cell_type": "code",
   "execution_count": 49,
   "id": "67cf8829",
   "metadata": {},
   "outputs": [
    {
     "data": {
      "text/html": [
       "<div>\n",
       "<style scoped>\n",
       "    .dataframe tbody tr th:only-of-type {\n",
       "        vertical-align: middle;\n",
       "    }\n",
       "\n",
       "    .dataframe tbody tr th {\n",
       "        vertical-align: top;\n",
       "    }\n",
       "\n",
       "    .dataframe thead th {\n",
       "        text-align: right;\n",
       "    }\n",
       "</style>\n",
       "<table border=\"1\" class=\"dataframe\">\n",
       "  <thead>\n",
       "    <tr style=\"text-align: right;\">\n",
       "      <th></th>\n",
       "      <th>address</th>\n",
       "    </tr>\n",
       "  </thead>\n",
       "  <tbody>\n",
       "    <tr>\n",
       "      <th>0</th>\n",
       "      <td>123 MAIN St Apartment 15</td>\n",
       "    </tr>\n",
       "    <tr>\n",
       "      <th>1</th>\n",
       "      <td>123 Main Street Apt 12</td>\n",
       "    </tr>\n",
       "    <tr>\n",
       "      <th>2</th>\n",
       "      <td>543 FirSt Av</td>\n",
       "    </tr>\n",
       "    <tr>\n",
       "      <th>3</th>\n",
       "      <td>876 FIRst Ave.</td>\n",
       "    </tr>\n",
       "  </tbody>\n",
       "</table>\n",
       "</div>"
      ],
      "text/plain": [
       "                     address\n",
       "0   123 MAIN St Apartment 15\n",
       "1  123 Main Street Apt 12   \n",
       "2               543 FirSt Av\n",
       "3             876 FIRst Ave."
      ]
     },
     "execution_count": 49,
     "metadata": {},
     "output_type": "execute_result"
    }
   ],
   "source": [
    "df_add_ex = pd.DataFrame(['123 MAIN St Apartment 15', '123 Main Street Apt 12   ', '543 FirSt Av', '  876 FIRst Ave.'], columns=['address'])\n",
    "df_add_ex"
   ]
  },
  {
   "cell_type": "markdown",
   "id": "88574228",
   "metadata": {},
   "source": [
    "**What to do?**\n",
    "\n",
    "We can run the below code to:\n",
    "\n",
    "**lowercase the letters**\n",
    "\n",
    "**remove leading and trailing white spaces**\n",
    "\n",
    "**delete periods**\n",
    "\n",
    "**standardize wordings**\n",
    "\n",
    "We are using regular expressions to specify search patterns. "
   ]
  },
  {
   "cell_type": "code",
   "execution_count": 50,
   "id": "68094dc8",
   "metadata": {},
   "outputs": [
    {
     "data": {
      "text/html": [
       "<div>\n",
       "<style scoped>\n",
       "    .dataframe tbody tr th:only-of-type {\n",
       "        vertical-align: middle;\n",
       "    }\n",
       "\n",
       "    .dataframe tbody tr th {\n",
       "        vertical-align: top;\n",
       "    }\n",
       "\n",
       "    .dataframe thead th {\n",
       "        text-align: right;\n",
       "    }\n",
       "</style>\n",
       "<table border=\"1\" class=\"dataframe\">\n",
       "  <thead>\n",
       "    <tr style=\"text-align: right;\">\n",
       "      <th></th>\n",
       "      <th>address</th>\n",
       "      <th>address_std</th>\n",
       "    </tr>\n",
       "  </thead>\n",
       "  <tbody>\n",
       "    <tr>\n",
       "      <th>0</th>\n",
       "      <td>123 MAIN St Apartment 15</td>\n",
       "      <td>123 main st apt 15</td>\n",
       "    </tr>\n",
       "    <tr>\n",
       "      <th>1</th>\n",
       "      <td>123 Main Street Apt 12</td>\n",
       "      <td>123 main st apt 12</td>\n",
       "    </tr>\n",
       "    <tr>\n",
       "      <th>2</th>\n",
       "      <td>543 FirSt Av</td>\n",
       "      <td>543 first ave</td>\n",
       "    </tr>\n",
       "    <tr>\n",
       "      <th>3</th>\n",
       "      <td>876 FIRst Ave.</td>\n",
       "      <td>876 first ave</td>\n",
       "    </tr>\n",
       "  </tbody>\n",
       "</table>\n",
       "</div>"
      ],
      "text/plain": [
       "                     address         address_std\n",
       "0   123 MAIN St Apartment 15  123 main st apt 15\n",
       "1  123 Main Street Apt 12     123 main st apt 12\n",
       "2               543 FirSt Av       543 first ave\n",
       "3             876 FIRst Ave.       876 first ave"
      ]
     },
     "execution_count": 50,
     "metadata": {},
     "output_type": "execute_result"
    }
   ],
   "source": [
    "df_add_ex['address_std'] = df_add_ex['address'].str.lower()\n",
    "df_add_ex['address_std'] = df_add_ex['address_std'].str.strip() # remove leading and trailing whitespaces.\n",
    "df_add_ex['address_std'] = df_add_ex['address_std'].str.replace('\\\\.', '', regex=True) # remove period.\n",
    "df_add_ex['address_std'] = df_add_ex['address_std'].str.replace('\\\\bstreet\\\\b', 'st', regex=True) # replace street with st.\n",
    "df_add_ex['address_std'] = df_add_ex['address_std'].str.replace('\\\\bapartment\\\\b', 'apt', regex=True) # replace apartment with apt.\n",
    "df_add_ex['address_std'] = df_add_ex['address_std'].str.replace('\\\\bav\\\\b', 'ave', regex=True) # replace av with ave.\n",
    "\n",
    "df_add_ex"
   ]
  },
  {
   "cell_type": "code",
   "execution_count": null,
   "id": "320be0a6",
   "metadata": {},
   "outputs": [],
   "source": []
  }
 ],
 "metadata": {
  "kernelspec": {
   "display_name": "Python 3 (ipykernel)",
   "language": "python",
   "name": "python3"
  },
  "language_info": {
   "codemirror_mode": {
    "name": "ipython",
    "version": 3
   },
   "file_extension": ".py",
   "mimetype": "text/x-python",
   "name": "python",
   "nbconvert_exporter": "python",
   "pygments_lexer": "ipython3",
   "version": "3.9.12"
  }
 },
 "nbformat": 4,
 "nbformat_minor": 5
}
